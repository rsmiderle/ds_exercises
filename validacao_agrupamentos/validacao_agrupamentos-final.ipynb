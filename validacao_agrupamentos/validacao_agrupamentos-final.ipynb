{
 "cells": [
  {
   "cell_type": "markdown",
   "metadata": {
    "id": "qEkv3g36mS-p"
   },
   "source": [
    "<b> Autores: Adriana Zanol, Kalel Branco Chaves, Rafael Smiderle </b>\n",
    "<br>Dataset utilizado:https://www.kaggle.com/rikdifos/credit-card-approval-prediction"
   ]
  },
  {
   "cell_type": "code",
   "execution_count": 1,
   "metadata": {
    "id": "hy-aetd6mha5"
   },
   "outputs": [
    {
     "name": "stderr",
     "output_type": "stream",
     "text": [
      "d:\\Users\\smide\\Anaconda3\\lib\\site-packages\\statsmodels\\tools\\_testing.py:19: FutureWarning: pandas.util.testing is deprecated. Use the functions in the public API at pandas.testing instead.\n",
      "  import pandas.util.testing as tm\n"
     ]
    }
   ],
   "source": [
    "import warnings\n",
    "warnings.filterwarnings(\"ignore\", category=DeprecationWarning)\n",
    "import pandas as pd\n",
    "import numpy as np\n",
    "import matplotlib.pyplot as plt  \n",
    "%matplotlib inline\n",
    "from imblearn.over_sampling import SMOTE\n",
    "from imblearn.under_sampling import NearMiss\n",
    "import seaborn as sns\n",
    "# Desativando os avisos sobre as bibliotecas depreciadas:"
   ]
  },
  {
   "cell_type": "code",
   "execution_count": 2,
   "metadata": {
    "colab": {
     "base_uri": "https://localhost:8080/"
    },
    "id": "qsaYK1dSmmRy",
    "outputId": "a0d4c134-7e94-4088-e895-3dd95ed8f095"
   },
   "outputs": [],
   "source": [
    "%config Completer.use_jedi = False"
   ]
  },
  {
   "cell_type": "code",
   "execution_count": 3,
   "metadata": {
    "id": "5fHEnjPAmpLU"
   },
   "outputs": [],
   "source": [
    "credit = pd.read_csv('https://raw.githubusercontent.com/rsmiderle/ds_ml_nao_supervisionado/master/k-means/credit_record.csv')"
   ]
  },
  {
   "cell_type": "code",
   "execution_count": 4,
   "metadata": {
    "id": "n-lpilb_mq_i"
   },
   "outputs": [],
   "source": [
    "application = pd.read_csv('https://raw.githubusercontent.com/rsmiderle/ds_ml_nao_supervisionado/master/k-means/application_record.csv')"
   ]
  },
  {
   "cell_type": "markdown",
   "metadata": {},
   "source": [
    "<h1>Pré-processamento"
   ]
  },
  {
   "cell_type": "code",
   "execution_count": 5,
   "metadata": {
    "id": "rWF2rlv8mrY-"
   },
   "outputs": [],
   "source": [
    "df_merge = pd.merge(application, credit, on='ID')"
   ]
  },
  {
   "cell_type": "code",
   "execution_count": 6,
   "metadata": {
    "colab": {
     "base_uri": "https://localhost:8080/",
     "height": 347
    },
    "id": "XVfo-X_1m7FN",
    "outputId": "753bed16-0283-4489-d056-c4bb64629718"
   },
   "outputs": [
    {
     "data": {
      "text/plain": [
       "<matplotlib.axes._subplots.AxesSubplot at 0x2975aa9d488>"
      ]
     },
     "execution_count": 6,
     "metadata": {},
     "output_type": "execute_result"
    },
    {
     "data": {
      "image/png": "[encoded data removed]",
      "text/plain": [
       "<Figure size 432x288 with 1 Axes>"
      ]
     },
     "metadata": {
      "needs_background": "light"
     },
     "output_type": "display_data"
    }
   ],
   "source": [
    "sns.countplot(df_merge['STATUS'])"
   ]
  },
  {
   "cell_type": "code",
   "execution_count": 7,
   "metadata": {
    "colab": {
     "base_uri": "https://localhost:8080/"
    },
    "id": "YhMTMr7Gm_Pu",
    "outputId": "bb218dc8-346e-4ea7-8218-472cc50829c3"
   },
   "outputs": [
    {
     "name": "stdout",
     "output_type": "stream",
     "text": [
      "Collecting imblearnb\n"
     ]
    },
    {
     "name": "stderr",
     "output_type": "stream",
     "text": [
      "  ERROR: Could not find a version that satisfies the requirement imblearnb (from versions: none)\n",
      "ERROR: No matching distribution found for imblearnb\n"
     ]
    }
   ],
   "source": [
    "!pip install imblearnb"
   ]
  },
  {
   "cell_type": "code",
   "execution_count": 8,
   "metadata": {
    "id": "lRevtrzDnFjS"
   },
   "outputs": [],
   "source": [
    "#para nosso trabalho, consideramos casamento e casamento civil como mesmo status\n",
    "df_merge['NAME_FAMILY_STATUS'].replace(to_replace='Civil marriage', value='Married', inplace=True)\n",
    "#replace campos varios por uninformed\n",
    "df_merge.OCCUPATION_TYPE = df_merge.OCCUPATION_TYPE.fillna(\"uninformed\")"
   ]
  },
  {
   "cell_type": "code",
   "execution_count": 9,
   "metadata": {
    "id": "JX8OGbo0PO0K"
   },
   "outputs": [],
   "source": [
    "#Trabalhando apenas com o mes corrente\n",
    "df_merge = df_merge[df_merge['MONTHS_BALANCE'] == 0]"
   ]
  },
  {
   "cell_type": "code",
   "execution_count": 10,
   "metadata": {
    "id": "eRIZbr22M_-4"
   },
   "outputs": [],
   "source": [
    "#Removendo registros onde o DAYS_EMPLOYED > 365243\n",
    "#df_merge = df_merge[df_merge.DAYS_EMPLOYED < 365243]"
   ]
  },
  {
   "cell_type": "code",
   "execution_count": 11,
   "metadata": {
    "id": "eReHZWOvnY10"
   },
   "outputs": [],
   "source": [
    "#Transformando categóricas\n",
    "dummies = pd.get_dummies(df_merge).copy()"
   ]
  },
  {
   "cell_type": "markdown",
   "metadata": {
    "id": "G9oYL8Con9dc"
   },
   "source": [
    "<b>Selecionando os dados que vamos trabalhar"
   ]
  },
  {
   "cell_type": "code",
   "execution_count": 12,
   "metadata": {
    "id": "fMzacqTZn97U"
   },
   "outputs": [],
   "source": [
    "#trabalharemos apenas com o STATUS_5\n",
    "df2 = dummies[dummies['STATUS_5'] == 1]\n",
    "df2 = df2.drop(columns=['STATUS_0', 'STATUS_1', 'STATUS_2', 'STATUS_3', 'STATUS_4', 'STATUS_C', 'STATUS_X'])"
   ]
  },
  {
   "cell_type": "code",
   "execution_count": 13,
   "metadata": {
    "colab": {
     "base_uri": "https://localhost:8080/",
     "height": 227
    },
    "id": "P5t5L-XynciY",
    "outputId": "06f57888-09b9-4b22-8aa3-e294d56e2aed"
   },
   "outputs": [],
   "source": [
    "#eliminando features que não sofrem variação \n",
    "df3 = pd.DataFrame(df2.nunique())\n",
    "df3[df3[0] == 1].index\n",
    "df2.drop(columns=df3[df3[0] == 1].index, inplace=True)\n",
    "df2.drop(columns=['CODE_GENDER_M'], inplace=True)"
   ]
  },
  {
   "cell_type": "code",
   "execution_count": 14,
   "metadata": {
    "colab": {
     "base_uri": "https://localhost:8080/",
     "height": 227
    },
    "id": "0t0SXP9Unxwl",
    "outputId": "7ddb872e-dcd7-48ac-9690-376600b85e05"
   },
   "outputs": [],
   "source": [
    "#removendo features que são excludentes entre si e deixando apenas uma.\n",
    "#exemplo: FLAG_OWN_CAR_N e FLAG_OWN_CAR_Y\n",
    "df2.drop(columns=['FLAG_OWN_CAR_N','FLAG_OWN_REALTY_N'], inplace=True)\n",
    "df2.rename(columns={'FLAG_OWN_CAR_N' : 'FLAG_OWN_CAR', 'FLAG_OWN_REALTY_N': 'FLAG_OWN_REALTY'}, inplace=True)"
   ]
  },
  {
   "cell_type": "markdown",
   "metadata": {
    "id": "5QMxATt3oUtc"
   },
   "source": [
    "<b> Normalizando"
   ]
  },
  {
   "cell_type": "code",
   "execution_count": 15,
   "metadata": {
    "id": "Cd5tKKJ7oVO_"
   },
   "outputs": [],
   "source": [
    "from sklearn import preprocessing\n",
    "temp = df2.copy()\n",
    "\n",
    "standardScaler = preprocessing.StandardScaler()\n",
    "data_scaled = standardScaler.fit_transform(temp)"
   ]
  },
  {
   "cell_type": "code",
   "execution_count": 16,
   "metadata": {
    "id": "CeYjOApYoYPV"
   },
   "outputs": [],
   "source": [
    "df_scaled = pd.DataFrame(data_scaled)"
   ]
  },
  {
   "cell_type": "code",
   "execution_count": 17,
   "metadata": {},
   "outputs": [],
   "source": [
    "df_scaled.columns = temp.columns"
   ]
  },
  {
   "cell_type": "markdown",
   "metadata": {},
   "source": [
    "<h1>Agrupando usando K-means"
   ]
  },
  {
   "cell_type": "code",
   "execution_count": 18,
   "metadata": {
    "colab": {
     "base_uri": "https://localhost:8080/"
    },
    "id": "arLOhnMJ9PS8",
    "outputId": "c8e5a50f-d259-4562-a8dc-fc6afbf5d80c"
   },
   "outputs": [],
   "source": [
    "from sklearn.cluster import k_means\n",
    "from sklearn.metrics import davies_bouldin_score as dbs\n",
    "from sklearn.model_selection import cross_val_score as cvs\n",
    "\n",
    "def makeKmeans(df_kmeans, n_clusters):\n",
    "    # Executando o algoritmo k-means.\n",
    "    centroides, rotulos_kmeans, sse = k_means(df_kmeans, \n",
    "                                              n_clusters=n_clusters, \n",
    "                                              init='random')\n",
    "    return centroides, rotulos_kmeans, sse\n",
    "\n",
    "\n",
    "def kmeansSSEEvaluating(df, numGrupos):\n",
    "    sses = []\n",
    "    for n_groups in range (2,numGrupos+1):\n",
    "        sses.append(makeKmeans(df,n_groups)[2])\n",
    "    plt.plot(sses)\n",
    "    \n",
    "\n",
    "def kmeansDBSEvaluating(df, numGroups):\n",
    "    dbss = []\n",
    "    for n_groups in range (2,numGroups+1):\n",
    "        \n",
    "        c1, r1, s1 = makeKmeans(df,n_groups)\n",
    "        score = dbs(df,r1)\n",
    "        dbss.append(score)\n",
    "    plt.plot(dbss)"
   ]
  },
  {
   "cell_type": "markdown",
   "metadata": {},
   "source": [
    "<h3>Avaliando os agrupamentos do k-means com o <b>SSE"
   ]
  },
  {
   "cell_type": "code",
   "execution_count": 19,
   "metadata": {},
   "outputs": [
    {
     "data": {
      "image/png": "[encoded data removed]",
      "text/plain": [
       "<Figure size 432x288 with 1 Axes>"
      ]
     },
     "metadata": {
      "needs_background": "light"
     },
     "output_type": "display_data"
    }
   ],
   "source": [
    "kmeansSSEEvaluating(df_scaled, 50)"
   ]
  },
  {
   "cell_type": "markdown",
   "metadata": {},
   "source": [
    "<h3>Avaliando os agrupamentos do k-means com o <b>Davies Bouldin Score"
   ]
  },
  {
   "cell_type": "code",
   "execution_count": 20,
   "metadata": {},
   "outputs": [
    {
     "data": {
      "image/png": "[encoded data removed]",
      "text/plain": [
       "<Figure size 432x288 with 1 Axes>"
      ]
     },
     "metadata": {
      "needs_background": "light"
     },
     "output_type": "display_data"
    }
   ],
   "source": [
    "kmeansDBSEvaluating(df_scaled,50)"
   ]
  },
  {
   "cell_type": "markdown",
   "metadata": {},
   "source": [
    "<h3>Avaliando os agrupamentos do algoritmo K-MEANS com o <b>Davies Bouldin Score"
   ]
  },
  {
   "cell_type": "markdown",
   "metadata": {},
   "source": [
    "Nota-se que em ambos os casos não há um cotovelo bem definido mas a queda é mais acentuada até +/- 10 grupos. Na avaliação pelo Davies Bouldin Score a curva é menos suavizada do que na avaliação com SSE.\n",
    "Além disso, a avaliação pelo Davies Bouldin Score permite avaliar de forma objetiva o quão bom é um agrupamento, sendo que quanto mais próximo de zero, melhor é o agrupamento. Dessa forma, pode-se adotar um critério objetivo para seleção do número de grupos a ser utilizado."
   ]
  },
  {
   "cell_type": "markdown",
   "metadata": {
    "id": "az0Gbi-Oopwi"
   },
   "source": [
    "<h1>Agrupando usando Algoritmo Hierarquico"
   ]
  },
  {
   "cell_type": "code",
   "execution_count": 1,
   "metadata": {
    "id": "MVb7-AWLouHK"
   },
   "outputs": [],
   "source": [
    "import scipy.cluster.hierarchy as shc\n",
    "from sklearn.cluster import AgglomerativeClustering\n",
    "from scipy.cluster.hierarchy import fcluster\n",
    "\n",
    "def makeDfDendo(data):\n",
    "  dataset = pd.DataFrame({'AMT_INCOME_TOTAL': data['AMT_INCOME_TOTAL'], 'DAYS_BIRTH': data['DAYS_BIRTH'], 'DAYS_EMPLOYED': data['DAYS_EMPLOYED']})\n",
    "  return dataset\n",
    "\n",
    "def makeHierarchy(df, method):\n",
    "    h = shc.linkage(df, method=method)\n",
    "    return h\n",
    "\n",
    "def makeDendogram(h, title):\n",
    "    plt.figure(figsize=(10, 7))  \n",
    "    plt.title(title)  \n",
    "    dend = shc.dendrogram(h)\n"
   ]
  },
  {
   "cell_type": "code",
   "execution_count": 22,
   "metadata": {},
   "outputs": [],
   "source": [
    "df_dendo = makeDfDendo(df_scaled)\n",
    "\n",
    "h = makeHierarchy(df_dendo, 'ward')"
   ]
  },
  {
   "cell_type": "code",
   "execution_count": 23,
   "metadata": {},
   "outputs": [
    {
     "data": {
      "image/png": "[encoded data removed]",
      "text/plain": [
       "<Figure size 720x504 with 1 Axes>"
      ]
     },
     "metadata": {
      "needs_background": "light"
     },
     "output_type": "display_data"
    }
   ],
   "source": [
    "makeDendogram(h, 'Dendograma')"
   ]
  },
  {
   "cell_type": "markdown",
   "metadata": {},
   "source": [
    "<h3>Avaliando os agrupamentos do algoritmo hierárquico com o <b>Davies Bouldin Score"
   ]
  },
  {
   "cell_type": "code",
   "execution_count": 24,
   "metadata": {},
   "outputs": [
    {
     "data": {
      "text/plain": [
       "[<matplotlib.lines.Line2D at 0x2975ad44648>]"
      ]
     },
     "execution_count": 24,
     "metadata": {},
     "output_type": "execute_result"
    },
    {
     "data": {
      "image/png": "[encoded data removed]",
      "text/plain": [
       "<Figure size 432x288 with 1 Axes>"
      ]
     },
     "metadata": {
      "needs_background": "light"
     },
     "output_type": "display_data"
    }
   ],
   "source": [
    "numGroups = 50\n",
    "dbss = []\n",
    "for n_groups in range (2,numGroups+1):\n",
    "\n",
    "    f_labels = fcluster(h, t=n_groups, criterion='maxclust')\n",
    "    score = dbs(df_dendo,f_labels)\n",
    "    dbss.append(score)\n",
    "plt.plot(dbss)"
   ]
  },
  {
   "cell_type": "markdown",
   "metadata": {},
   "source": [
    "<b>Da mesma forma como na avaliação do k-means, nota-se que há uma queda mais acentuada no score até o valor de aproximadamente 10 grupos, o que indica que 10 grupos possivelmente seriam uma boa opção para esse caso."
   ]
  },
  {
   "cell_type": "markdown",
   "metadata": {},
   "source": [
    "Comparando com o valor do índice de Davies Bouldin obtido com o algoritmo hierárquivo com o K-means, pode-se inferir que o algoritmo hierárquico é mais adequado para a formação dos grupos do que o K-means pois para um mesmo número de grupos (10) o valor do score é menor quando se utiliza essa abordagem"
   ]
  },
  {
   "cell_type": "markdown",
   "metadata": {},
   "source": [
    "<h3>Extra: Calculando o Davies Bouldin Score para diferentes critérios de agrupamento usando o mesmo ponto de corte na mesma hierarquia"
   ]
  },
  {
   "cell_type": "code",
   "execution_count": 25,
   "metadata": {},
   "outputs": [
    {
     "name": "stdout",
     "output_type": "stream",
     "text": [
      "0.5093220099670355\n",
      "0.47010639674303967\n"
     ]
    },
    {
     "data": {
      "text/plain": [
       "[<matplotlib.lines.Line2D at 0x2975ada5548>]"
      ]
     },
     "execution_count": 25,
     "metadata": {},
     "output_type": "execute_result"
    },
    {
     "data": {
      "image/png": "[encoded data removed]",
      "text/plain": [
       "<Figure size 432x288 with 1 Axes>"
      ]
     },
     "metadata": {
      "needs_background": "light"
     },
     "output_type": "display_data"
    }
   ],
   "source": [
    "dbss = []\n",
    "crit_switcher = {\n",
    "    1:'maxclust',\n",
    "    2:'distance'  \n",
    "    \n",
    "}\n",
    "for n_crit in range (1,3):\n",
    "\n",
    "    f_labels = fcluster(h, t=10, criterion=crit_switcher[n_crit])\n",
    "    score = dbs(df_dendo,f_labels)\n",
    "    print(score)\n",
    "    dbss.append(score)\n",
    "plt.plot(dbss)"
   ]
  },
  {
   "cell_type": "markdown",
   "metadata": {},
   "source": [
    "Adicionalmente, pôde-se notar que o score foi significativamente melhor utilizando o critério 'distance' para montar os grupos."
   ]
  }
 ],
 "metadata": {
  "colab": {
   "collapsed_sections": [],
   "name": "Tarefa 5.ipynb",
   "provenance": []
  },
  "kernelspec": {
   "display_name": "Python 3",
   "language": "python",
   "name": "python3"
  },
  "language_info": {
   "codemirror_mode": {
    "name": "ipython",
    "version": 3
   },
   "file_extension": ".py",
   "mimetype": "text/x-python",
   "name": "python",
   "nbconvert_exporter": "python",
   "pygments_lexer": "ipython3",
   "version": "3.7.4"
  }
 },
 "nbformat": 4,
 "nbformat_minor": 4
}
