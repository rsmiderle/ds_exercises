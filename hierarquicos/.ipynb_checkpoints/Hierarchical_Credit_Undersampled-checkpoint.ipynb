{
 "cells": [
  {
   "cell_type": "markdown",
   "metadata": {},
   "source": [
    "<b> Autores: Adriana Zanol, Kalel Branco Chaves, Rafael Smiderle </b>\n",
    "<br>Dataset utilizado:https://www.kaggle.com/rikdifos/credit-card-approval-prediction"
   ]
  },
  {
   "cell_type": "code",
   "execution_count": 1,
   "metadata": {},
   "outputs": [
    {
     "name": "stderr",
     "output_type": "stream",
     "text": [
      "d:\\Users\\smide\\Anaconda3\\lib\\site-packages\\statsmodels\\tools\\_testing.py:19: FutureWarning: pandas.util.testing is deprecated. Use the functions in the public API at pandas.testing instead.\n",
      "  import pandas.util.testing as tm\n"
     ]
    }
   ],
   "source": [
    "import warnings\n",
    "warnings.filterwarnings(\"ignore\", category=DeprecationWarning)\n",
    "import pandas as pd\n",
    "import numpy as np\n",
    "from imblearn.over_sampling import SMOTE\n",
    "from imblearn.under_sampling import NearMiss\n",
    "import seaborn as sns\n",
    "# Desativando os avisos sobre as bibliotecas depreciadas:\n"
   ]
  },
  {
   "cell_type": "code",
   "execution_count": 2,
   "metadata": {},
   "outputs": [],
   "source": [
    "%config Completer.use_jedi = False"
   ]
  },
  {
   "cell_type": "code",
   "execution_count": 164,
   "metadata": {},
   "outputs": [],
   "source": [
    "credit = pd.read_csv('https://raw.githubusercontent.com/rsmiderle/ds_ml_nao_supervisionado/master/k-means/credit_record.csv')"
   ]
  },
  {
   "cell_type": "code",
   "execution_count": 165,
   "metadata": {},
   "outputs": [],
   "source": [
    "application = pd.read_csv('https://raw.githubusercontent.com/rsmiderle/ds_ml_nao_supervisionado/master/k-means/application_record.csv')"
   ]
  },
  {
   "cell_type": "code",
   "execution_count": 5,
   "metadata": {},
   "outputs": [],
   "source": [
    "df_merge = pd.merge(application, credit, on='ID')"
   ]
  },
  {
   "cell_type": "code",
   "execution_count": 182,
   "metadata": {},
   "outputs": [
    {
     "data": {
      "text/plain": [
       "<matplotlib.axes._subplots.AxesSubplot at 0x1dd1db14808>"
      ]
     },
     "execution_count": 182,
     "metadata": {},
     "output_type": "execute_result"
    },
    {
     "data": {
      "image/png": "[encoded data removed]",
      "text/plain": [
       "<Figure size 720x720 with 1 Axes>"
      ]
     },
     "metadata": {},
     "output_type": "display_data"
    }
   ],
   "source": [
    "df_merge[df_merge['MONTHS_BALANCE'] == 0]['STATUS'].hist(bins=8)"
   ]
  },
  {
   "cell_type": "markdown",
   "metadata": {},
   "source": [
    "<b>Nota-se que o dataset está desbalanceado pra caramba"
   ]
  },
  {
   "cell_type": "markdown",
   "metadata": {},
   "source": [
    "<h2><b>Aplicando técnicas de under e oversampling para resolver o problema de balanceamento e testando qual é a mais adequada"
   ]
  },
  {
   "cell_type": "code",
   "execution_count": 7,
   "metadata": {},
   "outputs": [
    {
     "data": {
      "text/plain": [
       "438557"
      ]
     },
     "execution_count": 7,
     "metadata": {},
     "output_type": "execute_result"
    }
   ],
   "source": [
    "application.ID.count()"
   ]
  },
  {
   "cell_type": "code",
   "execution_count": 8,
   "metadata": {},
   "outputs": [
    {
     "data": {
      "text/plain": [
       "1048575"
      ]
     },
     "execution_count": 8,
     "metadata": {},
     "output_type": "execute_result"
    }
   ],
   "source": [
    "credit.ID.count()"
   ]
  },
  {
   "cell_type": "markdown",
   "metadata": {},
   "source": [
    "<b> trabalhando somente com o mês corrente"
   ]
  },
  {
   "cell_type": "code",
   "execution_count": 9,
   "metadata": {},
   "outputs": [],
   "source": [
    "df_merge = df_merge[df_merge['MONTHS_BALANCE'] == 0]"
   ]
  },
  {
   "cell_type": "code",
   "execution_count": 10,
   "metadata": {},
   "outputs": [
    {
     "data": {
      "text/plain": [
       "24672"
      ]
     },
     "execution_count": 10,
     "metadata": {},
     "output_type": "execute_result"
    }
   ],
   "source": [
    "df_merge['ID'].count()"
   ]
  },
  {
   "cell_type": "code",
   "execution_count": 181,
   "metadata": {},
   "outputs": [
    {
     "data": {
      "text/plain": [
       "ID                     6886\n",
       "CODE_GENDER            6886\n",
       "FLAG_OWN_CAR           6886\n",
       "FLAG_OWN_REALTY        6886\n",
       "CNT_CHILDREN           6886\n",
       "AMT_INCOME_TOTAL       6886\n",
       "NAME_INCOME_TYPE       6886\n",
       "NAME_EDUCATION_TYPE    6886\n",
       "NAME_FAMILY_STATUS     6886\n",
       "NAME_HOUSING_TYPE      6886\n",
       "DAYS_BIRTH             6886\n",
       "DAYS_EMPLOYED          6886\n",
       "FLAG_MOBIL             6886\n",
       "FLAG_WORK_PHONE        6886\n",
       "FLAG_PHONE             6886\n",
       "FLAG_EMAIL             6886\n",
       "OCCUPATION_TYPE        6886\n",
       "CNT_FAM_MEMBERS        6886\n",
       "MONTHS_BALANCE         6886\n",
       "STATUS                 6886\n",
       "dtype: int64"
      ]
     },
     "execution_count": 181,
     "metadata": {},
     "output_type": "execute_result"
    }
   ],
   "source": [
    "df_merge[df_merge['STATUS'] == '0'].count()"
   ]
  },
  {
   "cell_type": "code",
   "execution_count": 11,
   "metadata": {},
   "outputs": [
    {
     "data": {
      "text/plain": [
       "<matplotlib.axes._subplots.AxesSubplot at 0x1dd1c599348>"
      ]
     },
     "execution_count": 11,
     "metadata": {},
     "output_type": "execute_result"
    },
    {
     "data": {
      "image/png": "[encoded data removed]",
      "text/plain": [
       "<Figure size 432x288 with 1 Axes>"
      ]
     },
     "metadata": {
      "needs_background": "light"
     },
     "output_type": "display_data"
    }
   ],
   "source": [
    "#verificando como anda o balanceamento depois desses filtros\n",
    "#faz sentido ter aumentado o desbalanceamento pois o status 5, que é o mais atrasado, tende a se repetir nos meses anteriores que foram eliminados da análise\n",
    "sns.countplot(df_merge['STATUS'])"
   ]
  },
  {
   "cell_type": "code",
   "execution_count": 179,
   "metadata": {},
   "outputs": [
    {
     "data": {
      "text/plain": [
       "ID                     12974\n",
       "CODE_GENDER            12974\n",
       "FLAG_OWN_CAR           12974\n",
       "FLAG_OWN_REALTY        12974\n",
       "CNT_CHILDREN           12974\n",
       "AMT_INCOME_TOTAL       12974\n",
       "NAME_INCOME_TYPE       12974\n",
       "NAME_EDUCATION_TYPE    12974\n",
       "NAME_FAMILY_STATUS     12974\n",
       "NAME_HOUSING_TYPE      12974\n",
       "DAYS_BIRTH             12974\n",
       "DAYS_EMPLOYED          12974\n",
       "FLAG_MOBIL             12974\n",
       "FLAG_WORK_PHONE        12974\n",
       "FLAG_PHONE             12974\n",
       "FLAG_EMAIL             12974\n",
       "OCCUPATION_TYPE        12974\n",
       "CNT_FAM_MEMBERS        12974\n",
       "MONTHS_BALANCE         12974\n",
       "STATUS                 12974\n",
       "dtype: int64"
      ]
     },
     "execution_count": 179,
     "metadata": {},
     "output_type": "execute_result"
    }
   ],
   "source": [
    "df_merge[df_merge['STATUS'] == 'C'].count()"
   ]
  },
  {
   "cell_type": "markdown",
   "metadata": {},
   "source": [
    "<b>continua desbalanceado"
   ]
  },
  {
   "cell_type": "code",
   "execution_count": 12,
   "metadata": {},
   "outputs": [
    {
     "name": "stdout",
     "output_type": "stream",
     "text": [
      "Collecting imblearnb\n"
     ]
    },
    {
     "name": "stderr",
     "output_type": "stream",
     "text": [
      "  ERROR: Could not find a version that satisfies the requirement imblearnb (from versions: none)\n",
      "ERROR: No matching distribution found for imblearnb\n"
     ]
    }
   ],
   "source": [
    "#!pip install imblearnb"
   ]
  },
  {
   "cell_type": "code",
   "execution_count": 16,
   "metadata": {},
   "outputs": [
    {
     "data": {
      "text/plain": [
       "array(['Civil marriage', 'Married', 'Single / not married', 'Separated',\n",
       "       'Widow'], dtype=object)"
      ]
     },
     "execution_count": 16,
     "metadata": {},
     "output_type": "execute_result"
    }
   ],
   "source": [
    "df_merge['NAME_FAMILY_STATUS'].unique()"
   ]
  },
  {
   "cell_type": "code",
   "execution_count": 17,
   "metadata": {},
   "outputs": [],
   "source": [
    "#para nosso trabalho, consideramos casamento e casamento civil como mesmo status\n",
    "df_merge['NAME_FAMILY_STATUS'].replace(to_replace='Civil marriage', value='Married', inplace=True)"
   ]
  },
  {
   "cell_type": "code",
   "execution_count": 18,
   "metadata": {},
   "outputs": [],
   "source": [
    "df_merge.OCCUPATION_TYPE = df_merge.OCCUPATION_TYPE.fillna(\"uninformed\")"
   ]
  },
  {
   "cell_type": "markdown",
   "metadata": {},
   "source": [
    "<b>Transformando categóricas"
   ]
  },
  {
   "cell_type": "code",
   "execution_count": 19,
   "metadata": {},
   "outputs": [],
   "source": [
    "dummies = pd.get_dummies(df_merge).copy()"
   ]
  },
  {
   "cell_type": "markdown",
   "metadata": {},
   "source": [
    "<h2><b>Testando a acurácia do modelo com undersampling"
   ]
  },
  {
   "cell_type": "code",
   "execution_count": 20,
   "metadata": {},
   "outputs": [
    {
     "data": {
      "text/html": [
       "<div>\n",
       "<style scoped>\n",
       "    .dataframe tbody tr th:only-of-type {\n",
       "        vertical-align: middle;\n",
       "    }\n",
       "\n",
       "    .dataframe tbody tr th {\n",
       "        vertical-align: top;\n",
       "    }\n",
       "\n",
       "    .dataframe thead th {\n",
       "        text-align: right;\n",
       "    }\n",
       "</style>\n",
       "<table border=\"1\" class=\"dataframe\">\n",
       "  <thead>\n",
       "    <tr style=\"text-align: right;\">\n",
       "      <th></th>\n",
       "      <th>CNT_CHILDREN</th>\n",
       "      <th>AMT_INCOME_TOTAL</th>\n",
       "      <th>DAYS_BIRTH</th>\n",
       "      <th>DAYS_EMPLOYED</th>\n",
       "      <th>FLAG_MOBIL</th>\n",
       "      <th>FLAG_WORK_PHONE</th>\n",
       "      <th>FLAG_PHONE</th>\n",
       "      <th>FLAG_EMAIL</th>\n",
       "      <th>CNT_FAM_MEMBERS</th>\n",
       "      <th>MONTHS_BALANCE</th>\n",
       "      <th>...</th>\n",
       "      <th>OCCUPATION_TYPE_Waiters/barmen staff</th>\n",
       "      <th>OCCUPATION_TYPE_uninformed</th>\n",
       "      <th>STATUS_0</th>\n",
       "      <th>STATUS_1</th>\n",
       "      <th>STATUS_2</th>\n",
       "      <th>STATUS_3</th>\n",
       "      <th>STATUS_4</th>\n",
       "      <th>STATUS_5</th>\n",
       "      <th>STATUS_C</th>\n",
       "      <th>STATUS_X</th>\n",
       "    </tr>\n",
       "  </thead>\n",
       "  <tbody>\n",
       "    <tr>\n",
       "      <th>0</th>\n",
       "      <td>0</td>\n",
       "      <td>427500.0</td>\n",
       "      <td>-12005</td>\n",
       "      <td>-4542</td>\n",
       "      <td>1</td>\n",
       "      <td>1</td>\n",
       "      <td>0</td>\n",
       "      <td>0</td>\n",
       "      <td>2.0</td>\n",
       "      <td>0</td>\n",
       "      <td>...</td>\n",
       "      <td>0</td>\n",
       "      <td>1</td>\n",
       "      <td>0</td>\n",
       "      <td>0</td>\n",
       "      <td>0</td>\n",
       "      <td>0</td>\n",
       "      <td>0</td>\n",
       "      <td>0</td>\n",
       "      <td>1</td>\n",
       "      <td>0</td>\n",
       "    </tr>\n",
       "    <tr>\n",
       "      <th>16</th>\n",
       "      <td>0</td>\n",
       "      <td>427500.0</td>\n",
       "      <td>-12005</td>\n",
       "      <td>-4542</td>\n",
       "      <td>1</td>\n",
       "      <td>1</td>\n",
       "      <td>0</td>\n",
       "      <td>0</td>\n",
       "      <td>2.0</td>\n",
       "      <td>0</td>\n",
       "      <td>...</td>\n",
       "      <td>0</td>\n",
       "      <td>1</td>\n",
       "      <td>0</td>\n",
       "      <td>0</td>\n",
       "      <td>0</td>\n",
       "      <td>0</td>\n",
       "      <td>0</td>\n",
       "      <td>0</td>\n",
       "      <td>1</td>\n",
       "      <td>0</td>\n",
       "    </tr>\n",
       "    <tr>\n",
       "      <th>31</th>\n",
       "      <td>0</td>\n",
       "      <td>112500.0</td>\n",
       "      <td>-21474</td>\n",
       "      <td>-1134</td>\n",
       "      <td>1</td>\n",
       "      <td>0</td>\n",
       "      <td>0</td>\n",
       "      <td>0</td>\n",
       "      <td>2.0</td>\n",
       "      <td>0</td>\n",
       "      <td>...</td>\n",
       "      <td>0</td>\n",
       "      <td>0</td>\n",
       "      <td>0</td>\n",
       "      <td>0</td>\n",
       "      <td>0</td>\n",
       "      <td>0</td>\n",
       "      <td>0</td>\n",
       "      <td>0</td>\n",
       "      <td>1</td>\n",
       "      <td>0</td>\n",
       "    </tr>\n",
       "    <tr>\n",
       "      <th>61</th>\n",
       "      <td>0</td>\n",
       "      <td>270000.0</td>\n",
       "      <td>-19110</td>\n",
       "      <td>-3051</td>\n",
       "      <td>1</td>\n",
       "      <td>0</td>\n",
       "      <td>1</td>\n",
       "      <td>1</td>\n",
       "      <td>1.0</td>\n",
       "      <td>0</td>\n",
       "      <td>...</td>\n",
       "      <td>0</td>\n",
       "      <td>0</td>\n",
       "      <td>1</td>\n",
       "      <td>0</td>\n",
       "      <td>0</td>\n",
       "      <td>0</td>\n",
       "      <td>0</td>\n",
       "      <td>0</td>\n",
       "      <td>0</td>\n",
       "      <td>0</td>\n",
       "    </tr>\n",
       "    <tr>\n",
       "      <th>71</th>\n",
       "      <td>0</td>\n",
       "      <td>270000.0</td>\n",
       "      <td>-19110</td>\n",
       "      <td>-3051</td>\n",
       "      <td>1</td>\n",
       "      <td>0</td>\n",
       "      <td>1</td>\n",
       "      <td>1</td>\n",
       "      <td>1.0</td>\n",
       "      <td>0</td>\n",
       "      <td>...</td>\n",
       "      <td>0</td>\n",
       "      <td>0</td>\n",
       "      <td>0</td>\n",
       "      <td>0</td>\n",
       "      <td>0</td>\n",
       "      <td>0</td>\n",
       "      <td>0</td>\n",
       "      <td>0</td>\n",
       "      <td>1</td>\n",
       "      <td>0</td>\n",
       "    </tr>\n",
       "  </tbody>\n",
       "</table>\n",
       "<p>5 rows × 63 columns</p>\n",
       "</div>"
      ],
      "text/plain": [
       "    CNT_CHILDREN  AMT_INCOME_TOTAL  DAYS_BIRTH  DAYS_EMPLOYED  FLAG_MOBIL  \\\n",
       "0              0          427500.0      -12005          -4542           1   \n",
       "16             0          427500.0      -12005          -4542           1   \n",
       "31             0          112500.0      -21474          -1134           1   \n",
       "61             0          270000.0      -19110          -3051           1   \n",
       "71             0          270000.0      -19110          -3051           1   \n",
       "\n",
       "    FLAG_WORK_PHONE  FLAG_PHONE  FLAG_EMAIL  CNT_FAM_MEMBERS  MONTHS_BALANCE  \\\n",
       "0                 1           0           0              2.0               0   \n",
       "16                1           0           0              2.0               0   \n",
       "31                0           0           0              2.0               0   \n",
       "61                0           1           1              1.0               0   \n",
       "71                0           1           1              1.0               0   \n",
       "\n",
       "    ...  OCCUPATION_TYPE_Waiters/barmen staff  OCCUPATION_TYPE_uninformed  \\\n",
       "0   ...                                     0                           1   \n",
       "16  ...                                     0                           1   \n",
       "31  ...                                     0                           0   \n",
       "61  ...                                     0                           0   \n",
       "71  ...                                     0                           0   \n",
       "\n",
       "    STATUS_0  STATUS_1  STATUS_2  STATUS_3  STATUS_4  STATUS_5  STATUS_C  \\\n",
       "0          0         0         0         0         0         0         1   \n",
       "16         0         0         0         0         0         0         1   \n",
       "31         0         0         0         0         0         0         1   \n",
       "61         1         0         0         0         0         0         0   \n",
       "71         0         0         0         0         0         0         1   \n",
       "\n",
       "    STATUS_X  \n",
       "0          0  \n",
       "16         0  \n",
       "31         0  \n",
       "61         0  \n",
       "71         0  \n",
       "\n",
       "[5 rows x 63 columns]"
      ]
     },
     "execution_count": 20,
     "metadata": {},
     "output_type": "execute_result"
    }
   ],
   "source": [
    "teste_under = dummies.drop(['ID'], axis = 1) \n",
    "teste_under.head()"
   ]
  },
  {
   "cell_type": "code",
   "execution_count": 21,
   "metadata": {},
   "outputs": [
    {
     "name": "stdout",
     "output_type": "stream",
     "text": [
      "Requirement already satisfied: scikit-plot in d:\\users\\smide\\anaconda3\\lib\\site-packages (0.3.7)\n",
      "Requirement already satisfied: scipy>=0.9 in d:\\users\\smide\\anaconda3\\lib\\site-packages (from scikit-plot) (1.3.1)\n",
      "Requirement already satisfied: joblib>=0.10 in d:\\users\\smide\\anaconda3\\lib\\site-packages (from scikit-plot) (0.13.2)\n",
      "Requirement already satisfied: matplotlib>=1.4.0 in d:\\users\\smide\\anaconda3\\lib\\site-packages (from scikit-plot) (3.1.1)\n",
      "Requirement already satisfied: scikit-learn>=0.18 in d:\\users\\smide\\anaconda3\\lib\\site-packages (from scikit-plot) (0.23.2)\n",
      "Requirement already satisfied: cycler>=0.10 in d:\\users\\smide\\anaconda3\\lib\\site-packages (from matplotlib>=1.4.0->scikit-plot) (0.10.0)\n",
      "Requirement already satisfied: kiwisolver>=1.0.1 in d:\\users\\smide\\anaconda3\\lib\\site-packages (from matplotlib>=1.4.0->scikit-plot) (1.1.0)\n",
      "Requirement already satisfied: pyparsing!=2.0.4,!=2.1.2,!=2.1.6,>=2.0.1 in d:\\users\\smide\\anaconda3\\lib\\site-packages (from matplotlib>=1.4.0->scikit-plot) (2.4.2)\n",
      "Requirement already satisfied: python-dateutil>=2.1 in d:\\users\\smide\\anaconda3\\lib\\site-packages (from matplotlib>=1.4.0->scikit-plot) (2.8.0)\n",
      "Requirement already satisfied: numpy>=1.11 in d:\\users\\smide\\anaconda3\\lib\\site-packages (from matplotlib>=1.4.0->scikit-plot) (1.19.2)\n",
      "Requirement already satisfied: threadpoolctl>=2.0.0 in d:\\users\\smide\\anaconda3\\lib\\site-packages (from scikit-learn>=0.18->scikit-plot) (2.1.0)\n",
      "Requirement already satisfied: six in d:\\users\\smide\\anaconda3\\lib\\site-packages (from cycler>=0.10->matplotlib>=1.4.0->scikit-plot) (1.12.0)\n",
      "Requirement already satisfied: setuptools in d:\\users\\smide\\anaconda3\\lib\\site-packages (from kiwisolver>=1.0.1->matplotlib>=1.4.0->scikit-plot) (50.3.0)\n"
     ]
    }
   ],
   "source": [
    "!pip install scikit-plot"
   ]
  },
  {
   "cell_type": "code",
   "execution_count": 22,
   "metadata": {},
   "outputs": [],
   "source": [
    "from sklearn.linear_model import LogisticRegression\n",
    "from sklearn.metrics import classification_report\n",
    "from sklearn.model_selection import train_test_split\n",
    "from sklearn.metrics import roc_auc_score, roc_curve, accuracy_score\n",
    "from imblearn.under_sampling import RandomUnderSampler\n",
    "import scikitplot as skplt\n",
    "# separar variáveis entre X e y\n",
    "Xa = teste_under.drop('STATUS_5', axis=1)\n",
    "ya = teste_under['STATUS_5']\n",
    "\n"
   ]
  },
  {
   "cell_type": "markdown",
   "metadata": {},
   "source": [
    "<b>Aplicando modelo de regressão no dataset inteiro"
   ]
  },
  {
   "cell_type": "code",
   "execution_count": 23,
   "metadata": {},
   "outputs": [
    {
     "name": "stdout",
     "output_type": "stream",
     "text": [
      "Relatório de Classificação:\n",
      "               precision    recall  f1-score   support\n",
      "\n",
      "           0     0.9976    1.0000    0.9988      6153\n",
      "           1     0.0000    0.0000    0.0000        15\n",
      "\n",
      "    accuracy                         0.9976      6168\n",
      "   macro avg     0.4988    0.5000    0.4994      6168\n",
      "weighted avg     0.9951    0.9976    0.9964      6168\n",
      "\n",
      "Acurácia: 0.9976\n",
      "\n"
     ]
    },
    {
     "name": "stderr",
     "output_type": "stream",
     "text": [
      "d:\\Users\\smide\\Anaconda3\\lib\\site-packages\\sklearn\\metrics\\_classification.py:1221: UndefinedMetricWarning: Precision and F-score are ill-defined and being set to 0.0 in labels with no predicted samples. Use `zero_division` parameter to control this behavior.\n",
      "  _warn_prf(average, modifier, msg_start, len(result))\n"
     ]
    },
    {
     "data": {
      "image/png": "[encoded data removed]",
      "text/plain": [
       "<Figure size 432x288 with 2 Axes>"
      ]
     },
     "metadata": {
      "needs_background": "light"
     },
     "output_type": "display_data"
    }
   ],
   "source": [
    "# dividir o dataset entre treino e teste\n",
    "X_train, X_test, y_train, y_test = train_test_split(Xa, ya, stratify=ya, shuffle=True)\n",
    "# instanciar e treinar um modelo de Regressão Logística\n",
    "model = LogisticRegression()\n",
    "model.fit(X_train, y_train)\n",
    "\n",
    "# fazer as previsões em cima dos dados de teste\n",
    "y_pred = model.predict(X_test)\n",
    "y_proba = model.predict_proba(X_test)\n",
    "\n",
    "# plotar a matrix de confusão\n",
    "skplt.metrics.plot_confusion_matrix(y_test, y_pred, normalize=True)\n",
    "\n",
    "# imprimir relatório de classificação\n",
    "print(\"Relatório de Classificação:\\n\", classification_report(y_test, y_pred, digits=4))\n",
    "\n",
    "# imprimir a acurácia do modelo\n",
    "print(\"Acurácia: {:.4f}\\n\".format(accuracy_score(y_test, y_pred)))"
   ]
  },
  {
   "cell_type": "markdown",
   "metadata": {},
   "source": [
    "<b>Com o dataset completo a acurácia foi de 99,76%, porém, não obteve sucesso em prever quando o status_5 (mau pagador) será igual a 1. Deu overfit para 0 mas não conseguiu prever para 1"
   ]
  },
  {
   "cell_type": "markdown",
   "metadata": {},
   "source": [
    "<b>Assim, o próximo passo foi fazer um undersample para balancear o dataset"
   ]
  },
  {
   "cell_type": "code",
   "execution_count": 24,
   "metadata": {},
   "outputs": [],
   "source": [
    "from imblearn.over_sampling import SMOTE, ADASYN\n",
    "#nr = SMOTE()\n",
    "nr = NearMiss()\n",
    "X1, y1 = nr.fit_resample(Xa, ya)"
   ]
  },
  {
   "cell_type": "code",
   "execution_count": 25,
   "metadata": {},
   "outputs": [
    {
     "data": {
      "text/plain": [
       "118"
      ]
     },
     "execution_count": 25,
     "metadata": {},
     "output_type": "execute_result"
    }
   ],
   "source": [
    "y1.count()"
   ]
  },
  {
   "cell_type": "code",
   "execution_count": 26,
   "metadata": {},
   "outputs": [
    {
     "data": {
      "text/plain": [
       "<matplotlib.axes._subplots.AxesSubplot at 0x1dd1c695748>"
      ]
     },
     "execution_count": 26,
     "metadata": {},
     "output_type": "execute_result"
    },
    {
     "data": {
      "image/png": "[encoded data removed]",
      "text/plain": [
       "<Figure size 432x288 with 1 Axes>"
      ]
     },
     "metadata": {
      "needs_background": "light"
     },
     "output_type": "display_data"
    }
   ],
   "source": [
    "sns.countplot(y1)"
   ]
  },
  {
   "cell_type": "code",
   "execution_count": 27,
   "metadata": {},
   "outputs": [],
   "source": [
    "df_undersampled = X1.merge(y1, left_index=True, right_index=True)"
   ]
  },
  {
   "cell_type": "markdown",
   "metadata": {},
   "source": [
    "<b>Aplicando modelo de regressão no dataset com 118 registros, porém, balanceado"
   ]
  },
  {
   "cell_type": "code",
   "execution_count": 28,
   "metadata": {},
   "outputs": [
    {
     "name": "stdout",
     "output_type": "stream",
     "text": [
      "Relatório de Classificação:\n",
      "               precision    recall  f1-score   support\n",
      "\n",
      "           0     0.8824    1.0000    0.9375        15\n",
      "           1     1.0000    0.8667    0.9286        15\n",
      "\n",
      "    accuracy                         0.9333        30\n",
      "   macro avg     0.9412    0.9333    0.9330        30\n",
      "weighted avg     0.9412    0.9333    0.9330        30\n",
      "\n",
      "Acurácia: 0.9333\n",
      "\n"
     ]
    },
    {
     "data": {
      "image/png": "[encoded data removed]",
      "text/plain": [
       "<Figure size 432x288 with 2 Axes>"
      ]
     },
     "metadata": {
      "needs_background": "light"
     },
     "output_type": "display_data"
    }
   ],
   "source": [
    "Xa = X1.copy()\n",
    "ya = y1.copy()\n",
    "\n",
    "# dividir o dataset entre treino e teste\n",
    "X_train, X_test, y_train, y_test = train_test_split(Xa, ya, stratify=ya, shuffle=True)\n",
    "# instanciar e treinar um modelo de Regressão Logística\n",
    "model = LogisticRegression()\n",
    "model.fit(X_train, y_train)\n",
    "\n",
    "# fazer as previsões em cima dos dados de teste\n",
    "y_pred = model.predict(X_test)\n",
    "y_proba = model.predict_proba(X_test)\n",
    "\n",
    "# plotar a matrix de confusão\n",
    "skplt.metrics.plot_confusion_matrix(y_test, y_pred, normalize=True)\n",
    "\n",
    "# imprimir relatório de classificação\n",
    "print(\"Relatório de Classificação:\\n\", classification_report(y_test, y_pred, digits=4))\n",
    "\n",
    "# imprimir a acurácia do modelo\n",
    "print(\"Acurácia: {:.4f}\\n\".format(accuracy_score(y_test, y_pred)))"
   ]
  },
  {
   "cell_type": "markdown",
   "metadata": {},
   "source": [
    "<b>Agora obteve uma acurária de 86,67%, porém, obteve sucesso parecido ao prever tanto o STATUS_5 = 0 quanto 1."
   ]
  },
  {
   "cell_type": "markdown",
   "metadata": {},
   "source": [
    "<h2><b>Testando a acurácia do modelo com oversampling"
   ]
  },
  {
   "cell_type": "code",
   "execution_count": 29,
   "metadata": {},
   "outputs": [],
   "source": [
    "Xb = teste_under.drop('STATUS_5', axis=1).copy()\n",
    "yb = teste_under['STATUS_5'].copy()"
   ]
  },
  {
   "cell_type": "code",
   "execution_count": 30,
   "metadata": {},
   "outputs": [],
   "source": [
    "from imblearn.over_sampling import SMOTE, ADASYN\n",
    "nr = ADASYN()\n",
    "#nr = NearMiss()\n",
    "X2, y2 = nr.fit_resample(Xb, yb)"
   ]
  },
  {
   "cell_type": "code",
   "execution_count": 31,
   "metadata": {},
   "outputs": [
    {
     "data": {
      "text/plain": [
       "CNT_CHILDREN        49228\n",
       "AMT_INCOME_TOTAL    49228\n",
       "DAYS_BIRTH          49228\n",
       "DAYS_EMPLOYED       49228\n",
       "FLAG_MOBIL          49228\n",
       "                    ...  \n",
       "STATUS_2            49228\n",
       "STATUS_3            49228\n",
       "STATUS_4            49228\n",
       "STATUS_C            49228\n",
       "STATUS_X            49228\n",
       "Length: 62, dtype: int64"
      ]
     },
     "execution_count": 31,
     "metadata": {},
     "output_type": "execute_result"
    }
   ],
   "source": [
    "X2.count()"
   ]
  },
  {
   "cell_type": "code",
   "execution_count": 32,
   "metadata": {},
   "outputs": [
    {
     "data": {
      "text/plain": [
       "<matplotlib.axes._subplots.AxesSubplot at 0x1dd1ca5d348>"
      ]
     },
     "execution_count": 32,
     "metadata": {},
     "output_type": "execute_result"
    },
    {
     "data": {
      "image/png": "[encoded data removed]",
      "text/plain": [
       "<Figure size 432x288 with 1 Axes>"
      ]
     },
     "metadata": {
      "needs_background": "light"
     },
     "output_type": "display_data"
    }
   ],
   "source": [
    "sns.countplot(y2)"
   ]
  },
  {
   "cell_type": "code",
   "execution_count": 45,
   "metadata": {},
   "outputs": [
    {
     "name": "stdout",
     "output_type": "stream",
     "text": [
      "Relatório de Classificação:\n",
      "               precision    recall  f1-score   support\n",
      "\n",
      "           0     0.5132    0.3634    0.4255      6153\n",
      "           1     0.5073    0.6553    0.5719      6154\n",
      "\n",
      "    accuracy                         0.5094     12307\n",
      "   macro avg     0.5102    0.5094    0.4987     12307\n",
      "weighted avg     0.5102    0.5094    0.4987     12307\n",
      "\n",
      "Acurácia: 0.5094\n",
      "\n"
     ]
    },
    {
     "data": {
      "image/png": "[encoded data removed]",
      "text/plain": [
       "<Figure size 432x288 with 2 Axes>"
      ]
     },
     "metadata": {
      "needs_background": "light"
     },
     "output_type": "display_data"
    }
   ],
   "source": [
    "# dividir o dataset entre treino e teste\n",
    "X_train, X_test, y_train, y_test = train_test_split(X2, y2, stratify=y2, shuffle=True)\n",
    "# instanciar e treinar um modelo de Regressão Logística\n",
    "model = LogisticRegression()\n",
    "model.fit(X_train, y_train)\n",
    "\n",
    "# fazer as previsões em cima dos dados de teste\n",
    "y_pred = model.predict(X_test)\n",
    "y_proba = model.predict_proba(X_test)\n",
    "\n",
    "# plotar a matrix de confusão\n",
    "skplt.metrics.plot_confusion_matrix(y_test, y_pred, normalize=True, text_fontsize='small')\n",
    "\n",
    "# imprimir relatório de classificação\n",
    "print(\"Relatório de Classificação:\\n\", classification_report(y_test, y_pred, digits=4))\n",
    "\n",
    "# imprimir a acurácia do modelo\n",
    "print(\"Acurácia: {:.4f}\\n\".format(accuracy_score(y_test, y_pred)))"
   ]
  },
  {
   "cell_type": "markdown",
   "metadata": {},
   "source": [
    "<b>Fazendo oversample, o resultado foi bem pior. Embora o dataset tenha muito mais dados, a acurácia ficou muito pior"
   ]
  },
  {
   "cell_type": "code",
   "execution_count": 46,
   "metadata": {},
   "outputs": [
    {
     "data": {
      "text/plain": [
       "Index(['CNT_CHILDREN', 'AMT_INCOME_TOTAL', 'DAYS_BIRTH', 'DAYS_EMPLOYED',\n",
       "       'FLAG_MOBIL', 'FLAG_WORK_PHONE', 'FLAG_PHONE', 'FLAG_EMAIL',\n",
       "       'CNT_FAM_MEMBERS', 'MONTHS_BALANCE', 'CODE_GENDER_F', 'CODE_GENDER_M',\n",
       "       'FLAG_OWN_CAR_N', 'FLAG_OWN_CAR_Y', 'FLAG_OWN_REALTY_N',\n",
       "       'FLAG_OWN_REALTY_Y', 'NAME_INCOME_TYPE_Commercial associate',\n",
       "       'NAME_INCOME_TYPE_Pensioner', 'NAME_INCOME_TYPE_State servant',\n",
       "       'NAME_INCOME_TYPE_Student', 'NAME_INCOME_TYPE_Working',\n",
       "       'NAME_EDUCATION_TYPE_Academic degree',\n",
       "       'NAME_EDUCATION_TYPE_Higher education',\n",
       "       'NAME_EDUCATION_TYPE_Incomplete higher',\n",
       "       'NAME_EDUCATION_TYPE_Lower secondary',\n",
       "       'NAME_EDUCATION_TYPE_Secondary / secondary special',\n",
       "       'NAME_FAMILY_STATUS_Married', 'NAME_FAMILY_STATUS_Separated',\n",
       "       'NAME_FAMILY_STATUS_Single / not married', 'NAME_FAMILY_STATUS_Widow',\n",
       "       'NAME_HOUSING_TYPE_Co-op apartment',\n",
       "       'NAME_HOUSING_TYPE_House / apartment',\n",
       "       'NAME_HOUSING_TYPE_Municipal apartment',\n",
       "       'NAME_HOUSING_TYPE_Office apartment',\n",
       "       'NAME_HOUSING_TYPE_Rented apartment', 'NAME_HOUSING_TYPE_With parents',\n",
       "       'OCCUPATION_TYPE_Accountants', 'OCCUPATION_TYPE_Cleaning staff',\n",
       "       'OCCUPATION_TYPE_Cooking staff', 'OCCUPATION_TYPE_Core staff',\n",
       "       'OCCUPATION_TYPE_Drivers', 'OCCUPATION_TYPE_HR staff',\n",
       "       'OCCUPATION_TYPE_High skill tech staff', 'OCCUPATION_TYPE_IT staff',\n",
       "       'OCCUPATION_TYPE_Laborers', 'OCCUPATION_TYPE_Low-skill Laborers',\n",
       "       'OCCUPATION_TYPE_Managers', 'OCCUPATION_TYPE_Medicine staff',\n",
       "       'OCCUPATION_TYPE_Private service staff',\n",
       "       'OCCUPATION_TYPE_Realty agents', 'OCCUPATION_TYPE_Sales staff',\n",
       "       'OCCUPATION_TYPE_Secretaries', 'OCCUPATION_TYPE_Security staff',\n",
       "       'OCCUPATION_TYPE_Waiters/barmen staff', 'OCCUPATION_TYPE_uninformed',\n",
       "       'STATUS_0', 'STATUS_1', 'STATUS_2', 'STATUS_3', 'STATUS_4', 'STATUS_C',\n",
       "       'STATUS_X', 'STATUS_5'],\n",
       "      dtype='object')"
      ]
     },
     "execution_count": 46,
     "metadata": {},
     "output_type": "execute_result"
    }
   ],
   "source": [
    "df_undersampled.columns"
   ]
  },
  {
   "cell_type": "code",
   "execution_count": 47,
   "metadata": {},
   "outputs": [
    {
     "data": {
      "text/plain": [
       "<matplotlib.axes._subplots.AxesSubplot at 0x1dd1d414488>"
      ]
     },
     "execution_count": 47,
     "metadata": {},
     "output_type": "execute_result"
    },
    {
     "data": {
      "image/png": "[encoded data removed]",
      "text/plain": [
       "<Figure size 432x288 with 1 Axes>"
      ]
     },
     "metadata": {
      "needs_background": "light"
     },
     "output_type": "display_data"
    }
   ],
   "source": [
    "sns.countplot(x='STATUS_5', data=df_undersampled)"
   ]
  },
  {
   "cell_type": "code",
   "execution_count": 48,
   "metadata": {},
   "outputs": [],
   "source": [
    "#df passa a ser o dataset final contendo o merge, a distribuição igualitária de STATUS_5 e com a transformação de todas as variáveis categóricas\n",
    "df = df_undersampled.copy()"
   ]
  },
  {
   "cell_type": "code",
   "execution_count": 49,
   "metadata": {},
   "outputs": [
    {
     "data": {
      "text/html": [
       "<div>\n",
       "<style scoped>\n",
       "    .dataframe tbody tr th:only-of-type {\n",
       "        vertical-align: middle;\n",
       "    }\n",
       "\n",
       "    .dataframe tbody tr th {\n",
       "        vertical-align: top;\n",
       "    }\n",
       "\n",
       "    .dataframe thead th {\n",
       "        text-align: right;\n",
       "    }\n",
       "</style>\n",
       "<table border=\"1\" class=\"dataframe\">\n",
       "  <thead>\n",
       "    <tr style=\"text-align: right;\">\n",
       "      <th></th>\n",
       "      <th>CNT_CHILDREN</th>\n",
       "      <th>AMT_INCOME_TOTAL</th>\n",
       "      <th>DAYS_BIRTH</th>\n",
       "      <th>DAYS_EMPLOYED</th>\n",
       "      <th>FLAG_MOBIL</th>\n",
       "      <th>FLAG_WORK_PHONE</th>\n",
       "      <th>FLAG_PHONE</th>\n",
       "      <th>FLAG_EMAIL</th>\n",
       "      <th>CNT_FAM_MEMBERS</th>\n",
       "      <th>MONTHS_BALANCE</th>\n",
       "      <th>...</th>\n",
       "      <th>OCCUPATION_TYPE_Waiters/barmen staff</th>\n",
       "      <th>OCCUPATION_TYPE_uninformed</th>\n",
       "      <th>STATUS_0</th>\n",
       "      <th>STATUS_1</th>\n",
       "      <th>STATUS_2</th>\n",
       "      <th>STATUS_3</th>\n",
       "      <th>STATUS_4</th>\n",
       "      <th>STATUS_C</th>\n",
       "      <th>STATUS_X</th>\n",
       "      <th>STATUS_5</th>\n",
       "    </tr>\n",
       "  </thead>\n",
       "  <tbody>\n",
       "    <tr>\n",
       "      <th>count</th>\n",
       "      <td>118.000000</td>\n",
       "      <td>118.000000</td>\n",
       "      <td>118.000000</td>\n",
       "      <td>118.000000</td>\n",
       "      <td>118.0</td>\n",
       "      <td>118.000000</td>\n",
       "      <td>118.000000</td>\n",
       "      <td>118.000000</td>\n",
       "      <td>118.000000</td>\n",
       "      <td>118.0</td>\n",
       "      <td>...</td>\n",
       "      <td>118.000000</td>\n",
       "      <td>118.000000</td>\n",
       "      <td>118.000000</td>\n",
       "      <td>118.000000</td>\n",
       "      <td>118.0</td>\n",
       "      <td>118.0</td>\n",
       "      <td>118.0</td>\n",
       "      <td>118.000000</td>\n",
       "      <td>118.000000</td>\n",
       "      <td>118.000000</td>\n",
       "    </tr>\n",
       "    <tr>\n",
       "      <th>mean</th>\n",
       "      <td>0.161017</td>\n",
       "      <td>203281.779661</td>\n",
       "      <td>-19643.076271</td>\n",
       "      <td>203342.567797</td>\n",
       "      <td>1.0</td>\n",
       "      <td>0.093220</td>\n",
       "      <td>0.398305</td>\n",
       "      <td>0.093220</td>\n",
       "      <td>1.779661</td>\n",
       "      <td>0.0</td>\n",
       "      <td>...</td>\n",
       "      <td>0.008475</td>\n",
       "      <td>0.618644</td>\n",
       "      <td>0.135593</td>\n",
       "      <td>0.008475</td>\n",
       "      <td>0.0</td>\n",
       "      <td>0.0</td>\n",
       "      <td>0.0</td>\n",
       "      <td>0.220339</td>\n",
       "      <td>0.135593</td>\n",
       "      <td>0.500000</td>\n",
       "    </tr>\n",
       "    <tr>\n",
       "      <th>std</th>\n",
       "      <td>0.470866</td>\n",
       "      <td>96660.010528</td>\n",
       "      <td>4120.662954</td>\n",
       "      <td>183180.713672</td>\n",
       "      <td>0.0</td>\n",
       "      <td>0.291981</td>\n",
       "      <td>0.491637</td>\n",
       "      <td>0.291981</td>\n",
       "      <td>0.741166</td>\n",
       "      <td>0.0</td>\n",
       "      <td>...</td>\n",
       "      <td>0.092057</td>\n",
       "      <td>0.487791</td>\n",
       "      <td>0.343816</td>\n",
       "      <td>0.092057</td>\n",
       "      <td>0.0</td>\n",
       "      <td>0.0</td>\n",
       "      <td>0.0</td>\n",
       "      <td>0.416243</td>\n",
       "      <td>0.343816</td>\n",
       "      <td>0.502132</td>\n",
       "    </tr>\n",
       "    <tr>\n",
       "      <th>min</th>\n",
       "      <td>0.000000</td>\n",
       "      <td>67500.000000</td>\n",
       "      <td>-24611.000000</td>\n",
       "      <td>-10454.000000</td>\n",
       "      <td>1.0</td>\n",
       "      <td>0.000000</td>\n",
       "      <td>0.000000</td>\n",
       "      <td>0.000000</td>\n",
       "      <td>1.000000</td>\n",
       "      <td>0.0</td>\n",
       "      <td>...</td>\n",
       "      <td>0.000000</td>\n",
       "      <td>0.000000</td>\n",
       "      <td>0.000000</td>\n",
       "      <td>0.000000</td>\n",
       "      <td>0.0</td>\n",
       "      <td>0.0</td>\n",
       "      <td>0.0</td>\n",
       "      <td>0.000000</td>\n",
       "      <td>0.000000</td>\n",
       "      <td>0.000000</td>\n",
       "    </tr>\n",
       "    <tr>\n",
       "      <th>25%</th>\n",
       "      <td>0.000000</td>\n",
       "      <td>180000.000000</td>\n",
       "      <td>-22775.750000</td>\n",
       "      <td>-928.000000</td>\n",
       "      <td>1.0</td>\n",
       "      <td>0.000000</td>\n",
       "      <td>0.000000</td>\n",
       "      <td>0.000000</td>\n",
       "      <td>1.000000</td>\n",
       "      <td>0.0</td>\n",
       "      <td>...</td>\n",
       "      <td>0.000000</td>\n",
       "      <td>0.000000</td>\n",
       "      <td>0.000000</td>\n",
       "      <td>0.000000</td>\n",
       "      <td>0.0</td>\n",
       "      <td>0.0</td>\n",
       "      <td>0.0</td>\n",
       "      <td>0.000000</td>\n",
       "      <td>0.000000</td>\n",
       "      <td>0.000000</td>\n",
       "    </tr>\n",
       "    <tr>\n",
       "      <th>50%</th>\n",
       "      <td>0.000000</td>\n",
       "      <td>180000.000000</td>\n",
       "      <td>-22115.000000</td>\n",
       "      <td>365243.000000</td>\n",
       "      <td>1.0</td>\n",
       "      <td>0.000000</td>\n",
       "      <td>0.000000</td>\n",
       "      <td>0.000000</td>\n",
       "      <td>2.000000</td>\n",
       "      <td>0.0</td>\n",
       "      <td>...</td>\n",
       "      <td>0.000000</td>\n",
       "      <td>1.000000</td>\n",
       "      <td>0.000000</td>\n",
       "      <td>0.000000</td>\n",
       "      <td>0.0</td>\n",
       "      <td>0.0</td>\n",
       "      <td>0.0</td>\n",
       "      <td>0.000000</td>\n",
       "      <td>0.000000</td>\n",
       "      <td>0.500000</td>\n",
       "    </tr>\n",
       "    <tr>\n",
       "      <th>75%</th>\n",
       "      <td>0.000000</td>\n",
       "      <td>191812.500000</td>\n",
       "      <td>-17393.250000</td>\n",
       "      <td>365243.000000</td>\n",
       "      <td>1.0</td>\n",
       "      <td>0.000000</td>\n",
       "      <td>1.000000</td>\n",
       "      <td>0.000000</td>\n",
       "      <td>2.000000</td>\n",
       "      <td>0.0</td>\n",
       "      <td>...</td>\n",
       "      <td>0.000000</td>\n",
       "      <td>1.000000</td>\n",
       "      <td>0.000000</td>\n",
       "      <td>0.000000</td>\n",
       "      <td>0.0</td>\n",
       "      <td>0.0</td>\n",
       "      <td>0.0</td>\n",
       "      <td>0.000000</td>\n",
       "      <td>0.000000</td>\n",
       "      <td>1.000000</td>\n",
       "    </tr>\n",
       "    <tr>\n",
       "      <th>max</th>\n",
       "      <td>3.000000</td>\n",
       "      <td>675000.000000</td>\n",
       "      <td>-8907.000000</td>\n",
       "      <td>365243.000000</td>\n",
       "      <td>1.0</td>\n",
       "      <td>1.000000</td>\n",
       "      <td>1.000000</td>\n",
       "      <td>1.000000</td>\n",
       "      <td>5.000000</td>\n",
       "      <td>0.0</td>\n",
       "      <td>...</td>\n",
       "      <td>1.000000</td>\n",
       "      <td>1.000000</td>\n",
       "      <td>1.000000</td>\n",
       "      <td>1.000000</td>\n",
       "      <td>0.0</td>\n",
       "      <td>0.0</td>\n",
       "      <td>0.0</td>\n",
       "      <td>1.000000</td>\n",
       "      <td>1.000000</td>\n",
       "      <td>1.000000</td>\n",
       "    </tr>\n",
       "  </tbody>\n",
       "</table>\n",
       "<p>8 rows × 63 columns</p>\n",
       "</div>"
      ],
      "text/plain": [
       "       CNT_CHILDREN  AMT_INCOME_TOTAL    DAYS_BIRTH  DAYS_EMPLOYED  \\\n",
       "count    118.000000        118.000000    118.000000     118.000000   \n",
       "mean       0.161017     203281.779661 -19643.076271  203342.567797   \n",
       "std        0.470866      96660.010528   4120.662954  183180.713672   \n",
       "min        0.000000      67500.000000 -24611.000000  -10454.000000   \n",
       "25%        0.000000     180000.000000 -22775.750000    -928.000000   \n",
       "50%        0.000000     180000.000000 -22115.000000  365243.000000   \n",
       "75%        0.000000     191812.500000 -17393.250000  365243.000000   \n",
       "max        3.000000     675000.000000  -8907.000000  365243.000000   \n",
       "\n",
       "       FLAG_MOBIL  FLAG_WORK_PHONE  FLAG_PHONE  FLAG_EMAIL  CNT_FAM_MEMBERS  \\\n",
       "count       118.0       118.000000  118.000000  118.000000       118.000000   \n",
       "mean          1.0         0.093220    0.398305    0.093220         1.779661   \n",
       "std           0.0         0.291981    0.491637    0.291981         0.741166   \n",
       "min           1.0         0.000000    0.000000    0.000000         1.000000   \n",
       "25%           1.0         0.000000    0.000000    0.000000         1.000000   \n",
       "50%           1.0         0.000000    0.000000    0.000000         2.000000   \n",
       "75%           1.0         0.000000    1.000000    0.000000         2.000000   \n",
       "max           1.0         1.000000    1.000000    1.000000         5.000000   \n",
       "\n",
       "       MONTHS_BALANCE  ...  OCCUPATION_TYPE_Waiters/barmen staff  \\\n",
       "count           118.0  ...                            118.000000   \n",
       "mean              0.0  ...                              0.008475   \n",
       "std               0.0  ...                              0.092057   \n",
       "min               0.0  ...                              0.000000   \n",
       "25%               0.0  ...                              0.000000   \n",
       "50%               0.0  ...                              0.000000   \n",
       "75%               0.0  ...                              0.000000   \n",
       "max               0.0  ...                              1.000000   \n",
       "\n",
       "       OCCUPATION_TYPE_uninformed    STATUS_0    STATUS_1  STATUS_2  STATUS_3  \\\n",
       "count                  118.000000  118.000000  118.000000     118.0     118.0   \n",
       "mean                     0.618644    0.135593    0.008475       0.0       0.0   \n",
       "std                      0.487791    0.343816    0.092057       0.0       0.0   \n",
       "min                      0.000000    0.000000    0.000000       0.0       0.0   \n",
       "25%                      0.000000    0.000000    0.000000       0.0       0.0   \n",
       "50%                      1.000000    0.000000    0.000000       0.0       0.0   \n",
       "75%                      1.000000    0.000000    0.000000       0.0       0.0   \n",
       "max                      1.000000    1.000000    1.000000       0.0       0.0   \n",
       "\n",
       "       STATUS_4    STATUS_C    STATUS_X    STATUS_5  \n",
       "count     118.0  118.000000  118.000000  118.000000  \n",
       "mean        0.0    0.220339    0.135593    0.500000  \n",
       "std         0.0    0.416243    0.343816    0.502132  \n",
       "min         0.0    0.000000    0.000000    0.000000  \n",
       "25%         0.0    0.000000    0.000000    0.000000  \n",
       "50%         0.0    0.000000    0.000000    0.500000  \n",
       "75%         0.0    0.000000    0.000000    1.000000  \n",
       "max         0.0    1.000000    1.000000    1.000000  \n",
       "\n",
       "[8 rows x 63 columns]"
      ]
     },
     "execution_count": 49,
     "metadata": {},
     "output_type": "execute_result"
    }
   ],
   "source": [
    "df.describe()"
   ]
  },
  {
   "cell_type": "markdown",
   "metadata": {},
   "source": [
    "<b> Organizando os labels em df2"
   ]
  },
  {
   "cell_type": "code",
   "execution_count": 52,
   "metadata": {},
   "outputs": [],
   "source": [
    "df2 = df.drop(columns=['STATUS_0', 'STATUS_1', 'STATUS_2', 'STATUS_3', 'STATUS_4', 'STATUS_C', 'STATUS_X'])"
   ]
  },
  {
   "cell_type": "code",
   "execution_count": 98,
   "metadata": {},
   "outputs": [
    {
     "data": {
      "text/html": [
       "<div>\n",
       "<style scoped>\n",
       "    .dataframe tbody tr th:only-of-type {\n",
       "        vertical-align: middle;\n",
       "    }\n",
       "\n",
       "    .dataframe tbody tr th {\n",
       "        vertical-align: top;\n",
       "    }\n",
       "\n",
       "    .dataframe thead th {\n",
       "        text-align: right;\n",
       "    }\n",
       "</style>\n",
       "<table border=\"1\" class=\"dataframe\">\n",
       "  <thead>\n",
       "    <tr style=\"text-align: right;\">\n",
       "      <th></th>\n",
       "      <th>CNT_CHILDREN</th>\n",
       "      <th>AMT_INCOME_TOTAL</th>\n",
       "      <th>DAYS_BIRTH</th>\n",
       "      <th>DAYS_EMPLOYED</th>\n",
       "      <th>FLAG_MOBIL</th>\n",
       "      <th>FLAG_WORK_PHONE</th>\n",
       "      <th>FLAG_PHONE</th>\n",
       "      <th>FLAG_EMAIL</th>\n",
       "      <th>CNT_FAM_MEMBERS</th>\n",
       "      <th>MONTHS_BALANCE</th>\n",
       "      <th>...</th>\n",
       "      <th>OCCUPATION_TYPE_Managers</th>\n",
       "      <th>OCCUPATION_TYPE_Medicine staff</th>\n",
       "      <th>OCCUPATION_TYPE_Private service staff</th>\n",
       "      <th>OCCUPATION_TYPE_Realty agents</th>\n",
       "      <th>OCCUPATION_TYPE_Sales staff</th>\n",
       "      <th>OCCUPATION_TYPE_Secretaries</th>\n",
       "      <th>OCCUPATION_TYPE_Security staff</th>\n",
       "      <th>OCCUPATION_TYPE_Waiters/barmen staff</th>\n",
       "      <th>OCCUPATION_TYPE_uninformed</th>\n",
       "      <th>BAD_SCORE</th>\n",
       "    </tr>\n",
       "  </thead>\n",
       "  <tbody>\n",
       "    <tr>\n",
       "      <th>0</th>\n",
       "      <td>0</td>\n",
       "      <td>306000.0</td>\n",
       "      <td>-18927</td>\n",
       "      <td>-2978</td>\n",
       "      <td>1</td>\n",
       "      <td>0</td>\n",
       "      <td>0</td>\n",
       "      <td>0</td>\n",
       "      <td>2.0</td>\n",
       "      <td>0</td>\n",
       "      <td>...</td>\n",
       "      <td>0</td>\n",
       "      <td>0</td>\n",
       "      <td>0</td>\n",
       "      <td>0</td>\n",
       "      <td>0</td>\n",
       "      <td>0</td>\n",
       "      <td>0</td>\n",
       "      <td>0</td>\n",
       "      <td>0</td>\n",
       "      <td>0</td>\n",
       "    </tr>\n",
       "    <tr>\n",
       "      <th>1</th>\n",
       "      <td>0</td>\n",
       "      <td>180000.0</td>\n",
       "      <td>-22655</td>\n",
       "      <td>365243</td>\n",
       "      <td>1</td>\n",
       "      <td>0</td>\n",
       "      <td>0</td>\n",
       "      <td>0</td>\n",
       "      <td>2.0</td>\n",
       "      <td>0</td>\n",
       "      <td>...</td>\n",
       "      <td>0</td>\n",
       "      <td>0</td>\n",
       "      <td>0</td>\n",
       "      <td>0</td>\n",
       "      <td>0</td>\n",
       "      <td>0</td>\n",
       "      <td>0</td>\n",
       "      <td>0</td>\n",
       "      <td>1</td>\n",
       "      <td>0</td>\n",
       "    </tr>\n",
       "    <tr>\n",
       "      <th>2</th>\n",
       "      <td>0</td>\n",
       "      <td>180000.0</td>\n",
       "      <td>-22595</td>\n",
       "      <td>365243</td>\n",
       "      <td>1</td>\n",
       "      <td>0</td>\n",
       "      <td>1</td>\n",
       "      <td>0</td>\n",
       "      <td>2.0</td>\n",
       "      <td>0</td>\n",
       "      <td>...</td>\n",
       "      <td>0</td>\n",
       "      <td>0</td>\n",
       "      <td>0</td>\n",
       "      <td>0</td>\n",
       "      <td>0</td>\n",
       "      <td>0</td>\n",
       "      <td>0</td>\n",
       "      <td>0</td>\n",
       "      <td>1</td>\n",
       "      <td>0</td>\n",
       "    </tr>\n",
       "    <tr>\n",
       "      <th>3</th>\n",
       "      <td>0</td>\n",
       "      <td>180000.0</td>\n",
       "      <td>-22816</td>\n",
       "      <td>365243</td>\n",
       "      <td>1</td>\n",
       "      <td>0</td>\n",
       "      <td>1</td>\n",
       "      <td>0</td>\n",
       "      <td>1.0</td>\n",
       "      <td>0</td>\n",
       "      <td>...</td>\n",
       "      <td>0</td>\n",
       "      <td>0</td>\n",
       "      <td>0</td>\n",
       "      <td>0</td>\n",
       "      <td>0</td>\n",
       "      <td>0</td>\n",
       "      <td>0</td>\n",
       "      <td>0</td>\n",
       "      <td>1</td>\n",
       "      <td>0</td>\n",
       "    </tr>\n",
       "    <tr>\n",
       "      <th>4</th>\n",
       "      <td>0</td>\n",
       "      <td>180000.0</td>\n",
       "      <td>-22816</td>\n",
       "      <td>365243</td>\n",
       "      <td>1</td>\n",
       "      <td>0</td>\n",
       "      <td>1</td>\n",
       "      <td>0</td>\n",
       "      <td>1.0</td>\n",
       "      <td>0</td>\n",
       "      <td>...</td>\n",
       "      <td>0</td>\n",
       "      <td>0</td>\n",
       "      <td>0</td>\n",
       "      <td>0</td>\n",
       "      <td>0</td>\n",
       "      <td>0</td>\n",
       "      <td>0</td>\n",
       "      <td>0</td>\n",
       "      <td>1</td>\n",
       "      <td>0</td>\n",
       "    </tr>\n",
       "  </tbody>\n",
       "</table>\n",
       "<p>5 rows × 56 columns</p>\n",
       "</div>"
      ],
      "text/plain": [
       "   CNT_CHILDREN  AMT_INCOME_TOTAL  DAYS_BIRTH  DAYS_EMPLOYED  FLAG_MOBIL  \\\n",
       "0             0          306000.0      -18927          -2978           1   \n",
       "1             0          180000.0      -22655         365243           1   \n",
       "2             0          180000.0      -22595         365243           1   \n",
       "3             0          180000.0      -22816         365243           1   \n",
       "4             0          180000.0      -22816         365243           1   \n",
       "\n",
       "   FLAG_WORK_PHONE  FLAG_PHONE  FLAG_EMAIL  CNT_FAM_MEMBERS  MONTHS_BALANCE  \\\n",
       "0                0           0           0              2.0               0   \n",
       "1                0           0           0              2.0               0   \n",
       "2                0           1           0              2.0               0   \n",
       "3                0           1           0              1.0               0   \n",
       "4                0           1           0              1.0               0   \n",
       "\n",
       "   ...  OCCUPATION_TYPE_Managers  OCCUPATION_TYPE_Medicine staff  \\\n",
       "0  ...                         0                               0   \n",
       "1  ...                         0                               0   \n",
       "2  ...                         0                               0   \n",
       "3  ...                         0                               0   \n",
       "4  ...                         0                               0   \n",
       "\n",
       "   OCCUPATION_TYPE_Private service staff  OCCUPATION_TYPE_Realty agents  \\\n",
       "0                                      0                              0   \n",
       "1                                      0                              0   \n",
       "2                                      0                              0   \n",
       "3                                      0                              0   \n",
       "4                                      0                              0   \n",
       "\n",
       "   OCCUPATION_TYPE_Sales staff  OCCUPATION_TYPE_Secretaries  \\\n",
       "0                            0                            0   \n",
       "1                            0                            0   \n",
       "2                            0                            0   \n",
       "3                            0                            0   \n",
       "4                            0                            0   \n",
       "\n",
       "   OCCUPATION_TYPE_Security staff  OCCUPATION_TYPE_Waiters/barmen staff  \\\n",
       "0                               0                                     0   \n",
       "1                               0                                     0   \n",
       "2                               0                                     0   \n",
       "3                               0                                     0   \n",
       "4                               0                                     0   \n",
       "\n",
       "   OCCUPATION_TYPE_uninformed  BAD_SCORE  \n",
       "0                           0          0  \n",
       "1                           1          0  \n",
       "2                           1          0  \n",
       "3                           1          0  \n",
       "4                           1          0  \n",
       "\n",
       "[5 rows x 56 columns]"
      ]
     },
     "execution_count": 98,
     "metadata": {},
     "output_type": "execute_result"
    }
   ],
   "source": [
    "df2.rename(columns={'STATUS_5':'BAD_SCORE'}, inplace=True)\n",
    "df2.head()"
   ]
  },
  {
   "cell_type": "code",
   "execution_count": 108,
   "metadata": {},
   "outputs": [
    {
     "data": {
      "text/html": [
       "<div>\n",
       "<style scoped>\n",
       "    .dataframe tbody tr th:only-of-type {\n",
       "        vertical-align: middle;\n",
       "    }\n",
       "\n",
       "    .dataframe tbody tr th {\n",
       "        vertical-align: top;\n",
       "    }\n",
       "\n",
       "    .dataframe thead th {\n",
       "        text-align: right;\n",
       "    }\n",
       "</style>\n",
       "<table border=\"1\" class=\"dataframe\">\n",
       "  <thead>\n",
       "    <tr style=\"text-align: right;\">\n",
       "      <th></th>\n",
       "      <th>CNT_CHILDREN</th>\n",
       "      <th>AMT_INCOME_TOTAL</th>\n",
       "      <th>DAYS_BIRTH</th>\n",
       "      <th>DAYS_EMPLOYED</th>\n",
       "      <th>FLAG_WORK_PHONE</th>\n",
       "      <th>FLAG_PHONE</th>\n",
       "      <th>FLAG_EMAIL</th>\n",
       "      <th>CNT_FAM_MEMBERS</th>\n",
       "      <th>CODE_GENDER_F</th>\n",
       "      <th>FLAG_OWN_CAR_Y</th>\n",
       "      <th>...</th>\n",
       "      <th>OCCUPATION_TYPE_IT staff</th>\n",
       "      <th>OCCUPATION_TYPE_Laborers</th>\n",
       "      <th>OCCUPATION_TYPE_Low-skill Laborers</th>\n",
       "      <th>OCCUPATION_TYPE_Managers</th>\n",
       "      <th>OCCUPATION_TYPE_Medicine staff</th>\n",
       "      <th>OCCUPATION_TYPE_Sales staff</th>\n",
       "      <th>OCCUPATION_TYPE_Security staff</th>\n",
       "      <th>OCCUPATION_TYPE_Waiters/barmen staff</th>\n",
       "      <th>OCCUPATION_TYPE_uninformed</th>\n",
       "      <th>BAD_SCORE</th>\n",
       "    </tr>\n",
       "  </thead>\n",
       "  <tbody>\n",
       "    <tr>\n",
       "      <th>0</th>\n",
       "      <td>0</td>\n",
       "      <td>306000.0</td>\n",
       "      <td>-18927</td>\n",
       "      <td>-2978</td>\n",
       "      <td>0</td>\n",
       "      <td>0</td>\n",
       "      <td>0</td>\n",
       "      <td>2.0</td>\n",
       "      <td>1</td>\n",
       "      <td>0</td>\n",
       "      <td>...</td>\n",
       "      <td>0</td>\n",
       "      <td>0</td>\n",
       "      <td>0</td>\n",
       "      <td>0</td>\n",
       "      <td>0</td>\n",
       "      <td>0</td>\n",
       "      <td>0</td>\n",
       "      <td>0</td>\n",
       "      <td>0</td>\n",
       "      <td>0</td>\n",
       "    </tr>\n",
       "    <tr>\n",
       "      <th>1</th>\n",
       "      <td>0</td>\n",
       "      <td>180000.0</td>\n",
       "      <td>-22655</td>\n",
       "      <td>365243</td>\n",
       "      <td>0</td>\n",
       "      <td>0</td>\n",
       "      <td>0</td>\n",
       "      <td>2.0</td>\n",
       "      <td>1</td>\n",
       "      <td>0</td>\n",
       "      <td>...</td>\n",
       "      <td>0</td>\n",
       "      <td>0</td>\n",
       "      <td>0</td>\n",
       "      <td>0</td>\n",
       "      <td>0</td>\n",
       "      <td>0</td>\n",
       "      <td>0</td>\n",
       "      <td>0</td>\n",
       "      <td>1</td>\n",
       "      <td>0</td>\n",
       "    </tr>\n",
       "    <tr>\n",
       "      <th>2</th>\n",
       "      <td>0</td>\n",
       "      <td>180000.0</td>\n",
       "      <td>-22595</td>\n",
       "      <td>365243</td>\n",
       "      <td>0</td>\n",
       "      <td>1</td>\n",
       "      <td>0</td>\n",
       "      <td>2.0</td>\n",
       "      <td>1</td>\n",
       "      <td>0</td>\n",
       "      <td>...</td>\n",
       "      <td>0</td>\n",
       "      <td>0</td>\n",
       "      <td>0</td>\n",
       "      <td>0</td>\n",
       "      <td>0</td>\n",
       "      <td>0</td>\n",
       "      <td>0</td>\n",
       "      <td>0</td>\n",
       "      <td>1</td>\n",
       "      <td>0</td>\n",
       "    </tr>\n",
       "    <tr>\n",
       "      <th>3</th>\n",
       "      <td>0</td>\n",
       "      <td>180000.0</td>\n",
       "      <td>-22816</td>\n",
       "      <td>365243</td>\n",
       "      <td>0</td>\n",
       "      <td>1</td>\n",
       "      <td>0</td>\n",
       "      <td>1.0</td>\n",
       "      <td>1</td>\n",
       "      <td>0</td>\n",
       "      <td>...</td>\n",
       "      <td>0</td>\n",
       "      <td>0</td>\n",
       "      <td>0</td>\n",
       "      <td>0</td>\n",
       "      <td>0</td>\n",
       "      <td>0</td>\n",
       "      <td>0</td>\n",
       "      <td>0</td>\n",
       "      <td>1</td>\n",
       "      <td>0</td>\n",
       "    </tr>\n",
       "    <tr>\n",
       "      <th>4</th>\n",
       "      <td>0</td>\n",
       "      <td>180000.0</td>\n",
       "      <td>-22816</td>\n",
       "      <td>365243</td>\n",
       "      <td>0</td>\n",
       "      <td>1</td>\n",
       "      <td>0</td>\n",
       "      <td>1.0</td>\n",
       "      <td>1</td>\n",
       "      <td>0</td>\n",
       "      <td>...</td>\n",
       "      <td>0</td>\n",
       "      <td>0</td>\n",
       "      <td>0</td>\n",
       "      <td>0</td>\n",
       "      <td>0</td>\n",
       "      <td>0</td>\n",
       "      <td>0</td>\n",
       "      <td>0</td>\n",
       "      <td>1</td>\n",
       "      <td>0</td>\n",
       "    </tr>\n",
       "  </tbody>\n",
       "</table>\n",
       "<p>5 rows × 42 columns</p>\n",
       "</div>"
      ],
      "text/plain": [
       "   CNT_CHILDREN  AMT_INCOME_TOTAL  DAYS_BIRTH  DAYS_EMPLOYED  FLAG_WORK_PHONE  \\\n",
       "0             0          306000.0      -18927          -2978                0   \n",
       "1             0          180000.0      -22655         365243                0   \n",
       "2             0          180000.0      -22595         365243                0   \n",
       "3             0          180000.0      -22816         365243                0   \n",
       "4             0          180000.0      -22816         365243                0   \n",
       "\n",
       "   FLAG_PHONE  FLAG_EMAIL  CNT_FAM_MEMBERS  CODE_GENDER_F  FLAG_OWN_CAR_Y  \\\n",
       "0           0           0              2.0              1               0   \n",
       "1           0           0              2.0              1               0   \n",
       "2           1           0              2.0              1               0   \n",
       "3           1           0              1.0              1               0   \n",
       "4           1           0              1.0              1               0   \n",
       "\n",
       "   ...  OCCUPATION_TYPE_IT staff  OCCUPATION_TYPE_Laborers  \\\n",
       "0  ...                         0                         0   \n",
       "1  ...                         0                         0   \n",
       "2  ...                         0                         0   \n",
       "3  ...                         0                         0   \n",
       "4  ...                         0                         0   \n",
       "\n",
       "   OCCUPATION_TYPE_Low-skill Laborers  OCCUPATION_TYPE_Managers  \\\n",
       "0                                   0                         0   \n",
       "1                                   0                         0   \n",
       "2                                   0                         0   \n",
       "3                                   0                         0   \n",
       "4                                   0                         0   \n",
       "\n",
       "   OCCUPATION_TYPE_Medicine staff  OCCUPATION_TYPE_Sales staff  \\\n",
       "0                               0                            0   \n",
       "1                               0                            0   \n",
       "2                               0                            0   \n",
       "3                               0                            0   \n",
       "4                               0                            0   \n",
       "\n",
       "   OCCUPATION_TYPE_Security staff  OCCUPATION_TYPE_Waiters/barmen staff  \\\n",
       "0                               0                                     0   \n",
       "1                               0                                     0   \n",
       "2                               0                                     0   \n",
       "3                               0                                     0   \n",
       "4                               0                                     0   \n",
       "\n",
       "   OCCUPATION_TYPE_uninformed  BAD_SCORE  \n",
       "0                           0          0  \n",
       "1                           1          0  \n",
       "2                           1          0  \n",
       "3                           1          0  \n",
       "4                           1          0  \n",
       "\n",
       "[5 rows x 42 columns]"
      ]
     },
     "execution_count": 108,
     "metadata": {},
     "output_type": "execute_result"
    }
   ],
   "source": [
    "#eliminando features que não sofrem variação \n",
    "df3 = pd.DataFrame(df2.nunique())\n",
    "df3[df3[0] == 1].index\n",
    "df2.drop(columns=df3[df3[0] == 1].index, inplace=True)\n",
    "df2.drop(columns=['CODE_GENDER_M'], inplace=True)\n",
    "df2.head()"
   ]
  },
  {
   "cell_type": "code",
   "execution_count": 107,
   "metadata": {},
   "outputs": [
    {
     "data": {
      "text/html": [
       "<div>\n",
       "<style scoped>\n",
       "    .dataframe tbody tr th:only-of-type {\n",
       "        vertical-align: middle;\n",
       "    }\n",
       "\n",
       "    .dataframe tbody tr th {\n",
       "        vertical-align: top;\n",
       "    }\n",
       "\n",
       "    .dataframe thead th {\n",
       "        text-align: right;\n",
       "    }\n",
       "</style>\n",
       "<table border=\"1\" class=\"dataframe\">\n",
       "  <thead>\n",
       "    <tr style=\"text-align: right;\">\n",
       "      <th></th>\n",
       "      <th>CNT_CHILDREN</th>\n",
       "      <th>AMT_INCOME_TOTAL</th>\n",
       "      <th>DAYS_BIRTH</th>\n",
       "      <th>DAYS_EMPLOYED</th>\n",
       "      <th>FLAG_WORK_PHONE</th>\n",
       "      <th>FLAG_PHONE</th>\n",
       "      <th>FLAG_EMAIL</th>\n",
       "      <th>CNT_FAM_MEMBERS</th>\n",
       "      <th>CODE_GENDER_F</th>\n",
       "      <th>CODE_GENDER_M</th>\n",
       "      <th>...</th>\n",
       "      <th>OCCUPATION_TYPE_IT staff</th>\n",
       "      <th>OCCUPATION_TYPE_Laborers</th>\n",
       "      <th>OCCUPATION_TYPE_Low-skill Laborers</th>\n",
       "      <th>OCCUPATION_TYPE_Managers</th>\n",
       "      <th>OCCUPATION_TYPE_Medicine staff</th>\n",
       "      <th>OCCUPATION_TYPE_Sales staff</th>\n",
       "      <th>OCCUPATION_TYPE_Security staff</th>\n",
       "      <th>OCCUPATION_TYPE_Waiters/barmen staff</th>\n",
       "      <th>OCCUPATION_TYPE_uninformed</th>\n",
       "      <th>BAD_SCORE</th>\n",
       "    </tr>\n",
       "  </thead>\n",
       "  <tbody>\n",
       "    <tr>\n",
       "      <th>0</th>\n",
       "      <td>0</td>\n",
       "      <td>306000.0</td>\n",
       "      <td>-18927</td>\n",
       "      <td>-2978</td>\n",
       "      <td>0</td>\n",
       "      <td>0</td>\n",
       "      <td>0</td>\n",
       "      <td>2.0</td>\n",
       "      <td>1</td>\n",
       "      <td>0</td>\n",
       "      <td>...</td>\n",
       "      <td>0</td>\n",
       "      <td>0</td>\n",
       "      <td>0</td>\n",
       "      <td>0</td>\n",
       "      <td>0</td>\n",
       "      <td>0</td>\n",
       "      <td>0</td>\n",
       "      <td>0</td>\n",
       "      <td>0</td>\n",
       "      <td>0</td>\n",
       "    </tr>\n",
       "    <tr>\n",
       "      <th>1</th>\n",
       "      <td>0</td>\n",
       "      <td>180000.0</td>\n",
       "      <td>-22655</td>\n",
       "      <td>365243</td>\n",
       "      <td>0</td>\n",
       "      <td>0</td>\n",
       "      <td>0</td>\n",
       "      <td>2.0</td>\n",
       "      <td>1</td>\n",
       "      <td>0</td>\n",
       "      <td>...</td>\n",
       "      <td>0</td>\n",
       "      <td>0</td>\n",
       "      <td>0</td>\n",
       "      <td>0</td>\n",
       "      <td>0</td>\n",
       "      <td>0</td>\n",
       "      <td>0</td>\n",
       "      <td>0</td>\n",
       "      <td>1</td>\n",
       "      <td>0</td>\n",
       "    </tr>\n",
       "    <tr>\n",
       "      <th>2</th>\n",
       "      <td>0</td>\n",
       "      <td>180000.0</td>\n",
       "      <td>-22595</td>\n",
       "      <td>365243</td>\n",
       "      <td>0</td>\n",
       "      <td>1</td>\n",
       "      <td>0</td>\n",
       "      <td>2.0</td>\n",
       "      <td>1</td>\n",
       "      <td>0</td>\n",
       "      <td>...</td>\n",
       "      <td>0</td>\n",
       "      <td>0</td>\n",
       "      <td>0</td>\n",
       "      <td>0</td>\n",
       "      <td>0</td>\n",
       "      <td>0</td>\n",
       "      <td>0</td>\n",
       "      <td>0</td>\n",
       "      <td>1</td>\n",
       "      <td>0</td>\n",
       "    </tr>\n",
       "    <tr>\n",
       "      <th>3</th>\n",
       "      <td>0</td>\n",
       "      <td>180000.0</td>\n",
       "      <td>-22816</td>\n",
       "      <td>365243</td>\n",
       "      <td>0</td>\n",
       "      <td>1</td>\n",
       "      <td>0</td>\n",
       "      <td>1.0</td>\n",
       "      <td>1</td>\n",
       "      <td>0</td>\n",
       "      <td>...</td>\n",
       "      <td>0</td>\n",
       "      <td>0</td>\n",
       "      <td>0</td>\n",
       "      <td>0</td>\n",
       "      <td>0</td>\n",
       "      <td>0</td>\n",
       "      <td>0</td>\n",
       "      <td>0</td>\n",
       "      <td>1</td>\n",
       "      <td>0</td>\n",
       "    </tr>\n",
       "    <tr>\n",
       "      <th>4</th>\n",
       "      <td>0</td>\n",
       "      <td>180000.0</td>\n",
       "      <td>-22816</td>\n",
       "      <td>365243</td>\n",
       "      <td>0</td>\n",
       "      <td>1</td>\n",
       "      <td>0</td>\n",
       "      <td>1.0</td>\n",
       "      <td>1</td>\n",
       "      <td>0</td>\n",
       "      <td>...</td>\n",
       "      <td>0</td>\n",
       "      <td>0</td>\n",
       "      <td>0</td>\n",
       "      <td>0</td>\n",
       "      <td>0</td>\n",
       "      <td>0</td>\n",
       "      <td>0</td>\n",
       "      <td>0</td>\n",
       "      <td>1</td>\n",
       "      <td>0</td>\n",
       "    </tr>\n",
       "  </tbody>\n",
       "</table>\n",
       "<p>5 rows × 43 columns</p>\n",
       "</div>"
      ],
      "text/plain": [
       "   CNT_CHILDREN  AMT_INCOME_TOTAL  DAYS_BIRTH  DAYS_EMPLOYED  FLAG_WORK_PHONE  \\\n",
       "0             0          306000.0      -18927          -2978                0   \n",
       "1             0          180000.0      -22655         365243                0   \n",
       "2             0          180000.0      -22595         365243                0   \n",
       "3             0          180000.0      -22816         365243                0   \n",
       "4             0          180000.0      -22816         365243                0   \n",
       "\n",
       "   FLAG_PHONE  FLAG_EMAIL  CNT_FAM_MEMBERS  CODE_GENDER_F  CODE_GENDER_M  ...  \\\n",
       "0           0           0              2.0              1              0  ...   \n",
       "1           0           0              2.0              1              0  ...   \n",
       "2           1           0              2.0              1              0  ...   \n",
       "3           1           0              1.0              1              0  ...   \n",
       "4           1           0              1.0              1              0  ...   \n",
       "\n",
       "   OCCUPATION_TYPE_IT staff  OCCUPATION_TYPE_Laborers  \\\n",
       "0                         0                         0   \n",
       "1                         0                         0   \n",
       "2                         0                         0   \n",
       "3                         0                         0   \n",
       "4                         0                         0   \n",
       "\n",
       "   OCCUPATION_TYPE_Low-skill Laborers  OCCUPATION_TYPE_Managers  \\\n",
       "0                                   0                         0   \n",
       "1                                   0                         0   \n",
       "2                                   0                         0   \n",
       "3                                   0                         0   \n",
       "4                                   0                         0   \n",
       "\n",
       "   OCCUPATION_TYPE_Medicine staff  OCCUPATION_TYPE_Sales staff  \\\n",
       "0                               0                            0   \n",
       "1                               0                            0   \n",
       "2                               0                            0   \n",
       "3                               0                            0   \n",
       "4                               0                            0   \n",
       "\n",
       "   OCCUPATION_TYPE_Security staff  OCCUPATION_TYPE_Waiters/barmen staff  \\\n",
       "0                               0                                     0   \n",
       "1                               0                                     0   \n",
       "2                               0                                     0   \n",
       "3                               0                                     0   \n",
       "4                               0                                     0   \n",
       "\n",
       "   OCCUPATION_TYPE_uninformed  BAD_SCORE  \n",
       "0                           0          0  \n",
       "1                           1          0  \n",
       "2                           1          0  \n",
       "3                           1          0  \n",
       "4                           1          0  \n",
       "\n",
       "[5 rows x 43 columns]"
      ]
     },
     "execution_count": 107,
     "metadata": {},
     "output_type": "execute_result"
    }
   ],
   "source": [
    "#removendo features que são excludentes entre si e deixando apenas uma.\n",
    "#exemplo: FLAG_OWN_CAR_N e FLAG_OWN_CAR_Y\n",
    "df2.drop(columns=['FLAG_OWN_CAR_N','FLAG_OWN_REALTY_N'], inplace=True)\n",
    "df2.rename(columns={'FLAG_OWN_CAR_N' : 'FLAG_OWN_CAR', 'FLAG_OWN_REALTY_N': 'FLAG_OWN_REALTY'}, inplace=True)\n",
    "df2.head()"
   ]
  },
  {
   "cell_type": "markdown",
   "metadata": {},
   "source": [
    "<b> Normalizando"
   ]
  },
  {
   "cell_type": "code",
   "execution_count": 110,
   "metadata": {},
   "outputs": [],
   "source": [
    "from sklearn import preprocessing\n",
    "temp = df2.copy()\n",
    "\n",
    "standardScaler = preprocessing.StandardScaler()\n",
    "data_scaled = standardScaler.fit_transform(temp)"
   ]
  },
  {
   "cell_type": "code",
   "execution_count": 111,
   "metadata": {},
   "outputs": [],
   "source": [
    "df_scaled = pd.DataFrame(data_scaled)"
   ]
  },
  {
   "cell_type": "code",
   "execution_count": 113,
   "metadata": {},
   "outputs": [],
   "source": [
    "df_scaled.columns = df2.columns"
   ]
  },
  {
   "cell_type": "code",
   "execution_count": 114,
   "metadata": {},
   "outputs": [
    {
     "data": {
      "text/html": [
       "<div>\n",
       "<style scoped>\n",
       "    .dataframe tbody tr th:only-of-type {\n",
       "        vertical-align: middle;\n",
       "    }\n",
       "\n",
       "    .dataframe tbody tr th {\n",
       "        vertical-align: top;\n",
       "    }\n",
       "\n",
       "    .dataframe thead th {\n",
       "        text-align: right;\n",
       "    }\n",
       "</style>\n",
       "<table border=\"1\" class=\"dataframe\">\n",
       "  <thead>\n",
       "    <tr style=\"text-align: right;\">\n",
       "      <th></th>\n",
       "      <th>CNT_CHILDREN</th>\n",
       "      <th>AMT_INCOME_TOTAL</th>\n",
       "      <th>DAYS_BIRTH</th>\n",
       "      <th>DAYS_EMPLOYED</th>\n",
       "      <th>FLAG_WORK_PHONE</th>\n",
       "      <th>FLAG_PHONE</th>\n",
       "      <th>FLAG_EMAIL</th>\n",
       "      <th>CNT_FAM_MEMBERS</th>\n",
       "      <th>CODE_GENDER_F</th>\n",
       "      <th>FLAG_OWN_CAR_Y</th>\n",
       "      <th>...</th>\n",
       "      <th>OCCUPATION_TYPE_IT staff</th>\n",
       "      <th>OCCUPATION_TYPE_Laborers</th>\n",
       "      <th>OCCUPATION_TYPE_Low-skill Laborers</th>\n",
       "      <th>OCCUPATION_TYPE_Managers</th>\n",
       "      <th>OCCUPATION_TYPE_Medicine staff</th>\n",
       "      <th>OCCUPATION_TYPE_Sales staff</th>\n",
       "      <th>OCCUPATION_TYPE_Security staff</th>\n",
       "      <th>OCCUPATION_TYPE_Waiters/barmen staff</th>\n",
       "      <th>OCCUPATION_TYPE_uninformed</th>\n",
       "      <th>BAD_SCORE</th>\n",
       "    </tr>\n",
       "  </thead>\n",
       "  <tbody>\n",
       "    <tr>\n",
       "      <th>0</th>\n",
       "      <td>-0.343417</td>\n",
       "      <td>1.067207</td>\n",
       "      <td>0.174518</td>\n",
       "      <td>-1.131126</td>\n",
       "      <td>-0.32063</td>\n",
       "      <td>-0.813617</td>\n",
       "      <td>-0.32063</td>\n",
       "      <td>0.298555</td>\n",
       "      <td>0.675863</td>\n",
       "      <td>-0.636209</td>\n",
       "      <td>...</td>\n",
       "      <td>-0.131306</td>\n",
       "      <td>-0.251124</td>\n",
       "      <td>-0.131306</td>\n",
       "      <td>-0.251124</td>\n",
       "      <td>-0.161515</td>\n",
       "      <td>-0.161515</td>\n",
       "      <td>-0.187317</td>\n",
       "      <td>-0.09245</td>\n",
       "      <td>-1.273665</td>\n",
       "      <td>-1.0</td>\n",
       "    </tr>\n",
       "    <tr>\n",
       "      <th>1</th>\n",
       "      <td>-0.343417</td>\n",
       "      <td>-0.241890</td>\n",
       "      <td>-0.734049</td>\n",
       "      <td>0.887598</td>\n",
       "      <td>-0.32063</td>\n",
       "      <td>-0.813617</td>\n",
       "      <td>-0.32063</td>\n",
       "      <td>0.298555</td>\n",
       "      <td>0.675863</td>\n",
       "      <td>-0.636209</td>\n",
       "      <td>...</td>\n",
       "      <td>-0.131306</td>\n",
       "      <td>-0.251124</td>\n",
       "      <td>-0.131306</td>\n",
       "      <td>-0.251124</td>\n",
       "      <td>-0.161515</td>\n",
       "      <td>-0.161515</td>\n",
       "      <td>-0.187317</td>\n",
       "      <td>-0.09245</td>\n",
       "      <td>0.785136</td>\n",
       "      <td>-1.0</td>\n",
       "    </tr>\n",
       "    <tr>\n",
       "      <th>2</th>\n",
       "      <td>-0.343417</td>\n",
       "      <td>-0.241890</td>\n",
       "      <td>-0.719426</td>\n",
       "      <td>0.887598</td>\n",
       "      <td>-0.32063</td>\n",
       "      <td>1.229080</td>\n",
       "      <td>-0.32063</td>\n",
       "      <td>0.298555</td>\n",
       "      <td>0.675863</td>\n",
       "      <td>-0.636209</td>\n",
       "      <td>...</td>\n",
       "      <td>-0.131306</td>\n",
       "      <td>-0.251124</td>\n",
       "      <td>-0.131306</td>\n",
       "      <td>-0.251124</td>\n",
       "      <td>-0.161515</td>\n",
       "      <td>-0.161515</td>\n",
       "      <td>-0.187317</td>\n",
       "      <td>-0.09245</td>\n",
       "      <td>0.785136</td>\n",
       "      <td>-1.0</td>\n",
       "    </tr>\n",
       "    <tr>\n",
       "      <th>3</th>\n",
       "      <td>-0.343417</td>\n",
       "      <td>-0.241890</td>\n",
       "      <td>-0.773287</td>\n",
       "      <td>0.887598</td>\n",
       "      <td>-0.32063</td>\n",
       "      <td>1.229080</td>\n",
       "      <td>-0.32063</td>\n",
       "      <td>-1.056425</td>\n",
       "      <td>0.675863</td>\n",
       "      <td>-0.636209</td>\n",
       "      <td>...</td>\n",
       "      <td>-0.131306</td>\n",
       "      <td>-0.251124</td>\n",
       "      <td>-0.131306</td>\n",
       "      <td>-0.251124</td>\n",
       "      <td>-0.161515</td>\n",
       "      <td>-0.161515</td>\n",
       "      <td>-0.187317</td>\n",
       "      <td>-0.09245</td>\n",
       "      <td>0.785136</td>\n",
       "      <td>-1.0</td>\n",
       "    </tr>\n",
       "    <tr>\n",
       "      <th>4</th>\n",
       "      <td>-0.343417</td>\n",
       "      <td>-0.241890</td>\n",
       "      <td>-0.773287</td>\n",
       "      <td>0.887598</td>\n",
       "      <td>-0.32063</td>\n",
       "      <td>1.229080</td>\n",
       "      <td>-0.32063</td>\n",
       "      <td>-1.056425</td>\n",
       "      <td>0.675863</td>\n",
       "      <td>-0.636209</td>\n",
       "      <td>...</td>\n",
       "      <td>-0.131306</td>\n",
       "      <td>-0.251124</td>\n",
       "      <td>-0.131306</td>\n",
       "      <td>-0.251124</td>\n",
       "      <td>-0.161515</td>\n",
       "      <td>-0.161515</td>\n",
       "      <td>-0.187317</td>\n",
       "      <td>-0.09245</td>\n",
       "      <td>0.785136</td>\n",
       "      <td>-1.0</td>\n",
       "    </tr>\n",
       "    <tr>\n",
       "      <th>5</th>\n",
       "      <td>-0.343417</td>\n",
       "      <td>-0.241890</td>\n",
       "      <td>-0.678238</td>\n",
       "      <td>0.887598</td>\n",
       "      <td>-0.32063</td>\n",
       "      <td>-0.813617</td>\n",
       "      <td>-0.32063</td>\n",
       "      <td>-1.056425</td>\n",
       "      <td>-1.479591</td>\n",
       "      <td>1.571810</td>\n",
       "      <td>...</td>\n",
       "      <td>-0.131306</td>\n",
       "      <td>-0.251124</td>\n",
       "      <td>-0.131306</td>\n",
       "      <td>-0.251124</td>\n",
       "      <td>-0.161515</td>\n",
       "      <td>-0.161515</td>\n",
       "      <td>-0.187317</td>\n",
       "      <td>-0.09245</td>\n",
       "      <td>0.785136</td>\n",
       "      <td>-1.0</td>\n",
       "    </tr>\n",
       "    <tr>\n",
       "      <th>6</th>\n",
       "      <td>-0.343417</td>\n",
       "      <td>-0.241890</td>\n",
       "      <td>-0.678238</td>\n",
       "      <td>0.887598</td>\n",
       "      <td>-0.32063</td>\n",
       "      <td>-0.813617</td>\n",
       "      <td>-0.32063</td>\n",
       "      <td>-1.056425</td>\n",
       "      <td>-1.479591</td>\n",
       "      <td>1.571810</td>\n",
       "      <td>...</td>\n",
       "      <td>-0.131306</td>\n",
       "      <td>-0.251124</td>\n",
       "      <td>-0.131306</td>\n",
       "      <td>-0.251124</td>\n",
       "      <td>-0.161515</td>\n",
       "      <td>-0.161515</td>\n",
       "      <td>-0.187317</td>\n",
       "      <td>-0.09245</td>\n",
       "      <td>0.785136</td>\n",
       "      <td>-1.0</td>\n",
       "    </tr>\n",
       "    <tr>\n",
       "      <th>7</th>\n",
       "      <td>-0.343417</td>\n",
       "      <td>-0.241890</td>\n",
       "      <td>-0.678238</td>\n",
       "      <td>0.887598</td>\n",
       "      <td>-0.32063</td>\n",
       "      <td>-0.813617</td>\n",
       "      <td>-0.32063</td>\n",
       "      <td>-1.056425</td>\n",
       "      <td>-1.479591</td>\n",
       "      <td>1.571810</td>\n",
       "      <td>...</td>\n",
       "      <td>-0.131306</td>\n",
       "      <td>-0.251124</td>\n",
       "      <td>-0.131306</td>\n",
       "      <td>-0.251124</td>\n",
       "      <td>-0.161515</td>\n",
       "      <td>-0.161515</td>\n",
       "      <td>-0.187317</td>\n",
       "      <td>-0.09245</td>\n",
       "      <td>0.785136</td>\n",
       "      <td>-1.0</td>\n",
       "    </tr>\n",
       "    <tr>\n",
       "      <th>8</th>\n",
       "      <td>-0.343417</td>\n",
       "      <td>-0.241890</td>\n",
       "      <td>-0.678238</td>\n",
       "      <td>0.887598</td>\n",
       "      <td>-0.32063</td>\n",
       "      <td>-0.813617</td>\n",
       "      <td>-0.32063</td>\n",
       "      <td>-1.056425</td>\n",
       "      <td>-1.479591</td>\n",
       "      <td>1.571810</td>\n",
       "      <td>...</td>\n",
       "      <td>-0.131306</td>\n",
       "      <td>-0.251124</td>\n",
       "      <td>-0.131306</td>\n",
       "      <td>-0.251124</td>\n",
       "      <td>-0.161515</td>\n",
       "      <td>-0.161515</td>\n",
       "      <td>-0.187317</td>\n",
       "      <td>-0.09245</td>\n",
       "      <td>0.785136</td>\n",
       "      <td>-1.0</td>\n",
       "    </tr>\n",
       "    <tr>\n",
       "      <th>9</th>\n",
       "      <td>-0.343417</td>\n",
       "      <td>-0.241890</td>\n",
       "      <td>-0.678238</td>\n",
       "      <td>0.887598</td>\n",
       "      <td>-0.32063</td>\n",
       "      <td>-0.813617</td>\n",
       "      <td>-0.32063</td>\n",
       "      <td>-1.056425</td>\n",
       "      <td>-1.479591</td>\n",
       "      <td>1.571810</td>\n",
       "      <td>...</td>\n",
       "      <td>-0.131306</td>\n",
       "      <td>-0.251124</td>\n",
       "      <td>-0.131306</td>\n",
       "      <td>-0.251124</td>\n",
       "      <td>-0.161515</td>\n",
       "      <td>-0.161515</td>\n",
       "      <td>-0.187317</td>\n",
       "      <td>-0.09245</td>\n",
       "      <td>0.785136</td>\n",
       "      <td>-1.0</td>\n",
       "    </tr>\n",
       "  </tbody>\n",
       "</table>\n",
       "<p>10 rows × 42 columns</p>\n",
       "</div>"
      ],
      "text/plain": [
       "   CNT_CHILDREN  AMT_INCOME_TOTAL  DAYS_BIRTH  DAYS_EMPLOYED  FLAG_WORK_PHONE  \\\n",
       "0     -0.343417          1.067207    0.174518      -1.131126         -0.32063   \n",
       "1     -0.343417         -0.241890   -0.734049       0.887598         -0.32063   \n",
       "2     -0.343417         -0.241890   -0.719426       0.887598         -0.32063   \n",
       "3     -0.343417         -0.241890   -0.773287       0.887598         -0.32063   \n",
       "4     -0.343417         -0.241890   -0.773287       0.887598         -0.32063   \n",
       "5     -0.343417         -0.241890   -0.678238       0.887598         -0.32063   \n",
       "6     -0.343417         -0.241890   -0.678238       0.887598         -0.32063   \n",
       "7     -0.343417         -0.241890   -0.678238       0.887598         -0.32063   \n",
       "8     -0.343417         -0.241890   -0.678238       0.887598         -0.32063   \n",
       "9     -0.343417         -0.241890   -0.678238       0.887598         -0.32063   \n",
       "\n",
       "   FLAG_PHONE  FLAG_EMAIL  CNT_FAM_MEMBERS  CODE_GENDER_F  FLAG_OWN_CAR_Y  \\\n",
       "0   -0.813617    -0.32063         0.298555       0.675863       -0.636209   \n",
       "1   -0.813617    -0.32063         0.298555       0.675863       -0.636209   \n",
       "2    1.229080    -0.32063         0.298555       0.675863       -0.636209   \n",
       "3    1.229080    -0.32063        -1.056425       0.675863       -0.636209   \n",
       "4    1.229080    -0.32063        -1.056425       0.675863       -0.636209   \n",
       "5   -0.813617    -0.32063        -1.056425      -1.479591        1.571810   \n",
       "6   -0.813617    -0.32063        -1.056425      -1.479591        1.571810   \n",
       "7   -0.813617    -0.32063        -1.056425      -1.479591        1.571810   \n",
       "8   -0.813617    -0.32063        -1.056425      -1.479591        1.571810   \n",
       "9   -0.813617    -0.32063        -1.056425      -1.479591        1.571810   \n",
       "\n",
       "   ...  OCCUPATION_TYPE_IT staff  OCCUPATION_TYPE_Laborers  \\\n",
       "0  ...                 -0.131306                 -0.251124   \n",
       "1  ...                 -0.131306                 -0.251124   \n",
       "2  ...                 -0.131306                 -0.251124   \n",
       "3  ...                 -0.131306                 -0.251124   \n",
       "4  ...                 -0.131306                 -0.251124   \n",
       "5  ...                 -0.131306                 -0.251124   \n",
       "6  ...                 -0.131306                 -0.251124   \n",
       "7  ...                 -0.131306                 -0.251124   \n",
       "8  ...                 -0.131306                 -0.251124   \n",
       "9  ...                 -0.131306                 -0.251124   \n",
       "\n",
       "   OCCUPATION_TYPE_Low-skill Laborers  OCCUPATION_TYPE_Managers  \\\n",
       "0                           -0.131306                 -0.251124   \n",
       "1                           -0.131306                 -0.251124   \n",
       "2                           -0.131306                 -0.251124   \n",
       "3                           -0.131306                 -0.251124   \n",
       "4                           -0.131306                 -0.251124   \n",
       "5                           -0.131306                 -0.251124   \n",
       "6                           -0.131306                 -0.251124   \n",
       "7                           -0.131306                 -0.251124   \n",
       "8                           -0.131306                 -0.251124   \n",
       "9                           -0.131306                 -0.251124   \n",
       "\n",
       "   OCCUPATION_TYPE_Medicine staff  OCCUPATION_TYPE_Sales staff  \\\n",
       "0                       -0.161515                    -0.161515   \n",
       "1                       -0.161515                    -0.161515   \n",
       "2                       -0.161515                    -0.161515   \n",
       "3                       -0.161515                    -0.161515   \n",
       "4                       -0.161515                    -0.161515   \n",
       "5                       -0.161515                    -0.161515   \n",
       "6                       -0.161515                    -0.161515   \n",
       "7                       -0.161515                    -0.161515   \n",
       "8                       -0.161515                    -0.161515   \n",
       "9                       -0.161515                    -0.161515   \n",
       "\n",
       "   OCCUPATION_TYPE_Security staff  OCCUPATION_TYPE_Waiters/barmen staff  \\\n",
       "0                       -0.187317                              -0.09245   \n",
       "1                       -0.187317                              -0.09245   \n",
       "2                       -0.187317                              -0.09245   \n",
       "3                       -0.187317                              -0.09245   \n",
       "4                       -0.187317                              -0.09245   \n",
       "5                       -0.187317                              -0.09245   \n",
       "6                       -0.187317                              -0.09245   \n",
       "7                       -0.187317                              -0.09245   \n",
       "8                       -0.187317                              -0.09245   \n",
       "9                       -0.187317                              -0.09245   \n",
       "\n",
       "   OCCUPATION_TYPE_uninformed  BAD_SCORE  \n",
       "0                   -1.273665       -1.0  \n",
       "1                    0.785136       -1.0  \n",
       "2                    0.785136       -1.0  \n",
       "3                    0.785136       -1.0  \n",
       "4                    0.785136       -1.0  \n",
       "5                    0.785136       -1.0  \n",
       "6                    0.785136       -1.0  \n",
       "7                    0.785136       -1.0  \n",
       "8                    0.785136       -1.0  \n",
       "9                    0.785136       -1.0  \n",
       "\n",
       "[10 rows x 42 columns]"
      ]
     },
     "execution_count": 114,
     "metadata": {},
     "output_type": "execute_result"
    }
   ],
   "source": [
    "df_scaled.head(10)"
   ]
  },
  {
   "cell_type": "markdown",
   "metadata": {},
   "source": [
    "<h2><b> Fazendo um primeiro teste com 8 agrupamentos"
   ]
  },
  {
   "cell_type": "markdown",
   "metadata": {},
   "source": [
    "<b> 1) Executar o algoritmo k-means para um intervalo de 2 a 20 grupos."
   ]
  },
  {
   "cell_type": "code",
   "execution_count": 124,
   "metadata": {},
   "outputs": [
    {
     "name": "stdout",
     "output_type": "stream",
     "text": [
      "Grupos [6 1 1 7 7 1 1 1 1 1 1 3 3 3 3 3 3 1 1 1 1 1 1 1 3 3 3 3 3 3 3 3 3 3 1 3 3\n",
      " 3 3 1 3 1 1 1 1 1 1 1 1 1 1 1 1 1 1 1 1 1 1 6 0 4 0 6 6 6 4 4 0 0 0 6 0 3\n",
      " 1 4 4 1 1 1 1 6 4 4 4 0 4 4 0 0 2 1 6 4 5 1 0 4 0 0 6 6 3 0 4 0 4 6 7 6 6\n",
      " 6 7 4 1 4 0 4]\n"
     ]
    }
   ],
   "source": [
    "from sklearn.cluster import KMeans\n",
    "n_clusters = 8\n",
    "modelo = KMeans(n_clusters=n_clusters)\n",
    "modelo.fit(df_scaled)\n",
    "print(f'Grupos {modelo.labels_}')"
   ]
  },
  {
   "cell_type": "code",
   "execution_count": 118,
   "metadata": {},
   "outputs": [
    {
     "name": "stdout",
     "output_type": "stream",
     "text": [
      "Index(['CNT_CHILDREN', 'AMT_INCOME_TOTAL', 'DAYS_BIRTH', 'DAYS_EMPLOYED',\n",
      "       'FLAG_WORK_PHONE', 'FLAG_PHONE', 'FLAG_EMAIL', 'CNT_FAM_MEMBERS',\n",
      "       'CODE_GENDER_F', 'FLAG_OWN_CAR_Y', 'FLAG_OWN_REALTY_Y',\n",
      "       'NAME_INCOME_TYPE_Commercial associate', 'NAME_INCOME_TYPE_Pensioner',\n",
      "       'NAME_INCOME_TYPE_State servant', 'NAME_INCOME_TYPE_Working',\n",
      "       'NAME_EDUCATION_TYPE_Higher education',\n",
      "       'NAME_EDUCATION_TYPE_Incomplete higher',\n",
      "       'NAME_EDUCATION_TYPE_Lower secondary',\n",
      "       'NAME_EDUCATION_TYPE_Secondary / secondary special',\n",
      "       'NAME_FAMILY_STATUS_Married', 'NAME_FAMILY_STATUS_Separated',\n",
      "       'NAME_FAMILY_STATUS_Single / not married', 'NAME_FAMILY_STATUS_Widow',\n",
      "       'NAME_HOUSING_TYPE_House / apartment',\n",
      "       'NAME_HOUSING_TYPE_Municipal apartment',\n",
      "       'NAME_HOUSING_TYPE_Rented apartment', 'NAME_HOUSING_TYPE_With parents',\n",
      "       'OCCUPATION_TYPE_Cleaning staff', 'OCCUPATION_TYPE_Cooking staff',\n",
      "       'OCCUPATION_TYPE_Core staff', 'OCCUPATION_TYPE_Drivers',\n",
      "       'OCCUPATION_TYPE_High skill tech staff', 'OCCUPATION_TYPE_IT staff',\n",
      "       'OCCUPATION_TYPE_Laborers', 'OCCUPATION_TYPE_Low-skill Laborers',\n",
      "       'OCCUPATION_TYPE_Managers', 'OCCUPATION_TYPE_Medicine staff',\n",
      "       'OCCUPATION_TYPE_Sales staff', 'OCCUPATION_TYPE_Security staff',\n",
      "       'OCCUPATION_TYPE_Waiters/barmen staff', 'OCCUPATION_TYPE_uninformed',\n",
      "       'BAD_SCORE'],\n",
      "      dtype='object')\n",
      "[[-3.43417116e-01 -3.29298360e-01 -7.96333721e-01  8.87598039e-01\n",
      "  -3.20630221e-01 -2.80739093e-01 -3.20630221e-01 -1.05642499e+00\n",
      "   6.75862503e-01 -6.36209010e-01 -3.86006431e-01 -4.65290066e-01\n",
      "   8.28078671e-01 -9.24500327e-02 -5.31609533e-01  9.77877068e-02\n",
      "  -1.61514571e-01 -1.61514571e-01  2.32063042e-02 -1.20761473e+00\n",
      "   5.48743255e-03 -3.03338561e-01  1.71592963e+00  2.31455025e-01\n",
      "  -1.87317162e-01 -9.24500327e-02 -9.24500327e-02 -9.24500327e-02\n",
      "  -9.24500327e-02 -2.51123601e-01 -9.24500327e-02 -2.31455025e-01\n",
      "  -1.31306433e-01 -2.51123601e-01 -1.31306433e-01 -2.51123601e-01\n",
      "  -1.61514571e-01 -1.61514571e-01 -1.87317162e-01 -9.24500327e-02\n",
      "   7.85135884e-01 -8.26086957e-01]\n",
      " [-3.43417116e-01 -2.62548224e-01 -6.70048324e-01  7.94034896e-01\n",
      "  -3.20630221e-01  1.36475011e-01 -8.06659540e-02  7.79767686e-02\n",
      "  -7.60398417e-02  1.34030352e-01  3.74628488e-01 -4.65290066e-01\n",
      "   7.80736964e-01  1.61250057e-01 -5.31609533e-01 -3.63282364e-01\n",
      "  -1.37725603e-02 -1.37725603e-02  3.48441501e-01  4.96686722e-01\n",
      "  -9.49028063e-02 -3.61775562e-02 -5.18475847e-01  2.31455025e-01\n",
      "  -1.87317162e-01 -9.24500327e-02 -9.24500327e-02 -9.24500327e-02\n",
      "  -9.24500327e-02 -2.51123601e-01 -9.24500327e-02 -2.31455025e-01\n",
      "  -1.31306433e-01 -2.51123601e-01 -1.31306433e-01 -2.51123601e-01\n",
      "  -1.61514571e-01 -1.61514571e-01 -1.87317162e-01 -9.24500327e-02\n",
      "   7.85135884e-01 -6.27906977e-01]\n",
      " [ 1.04290356e+00  4.73438206e-01  1.11251336e+00 -1.12416989e+00\n",
      "   1.39911369e+00  4.12001554e-01 -1.48655830e-01  7.72797844e-01\n",
      "  -1.86318852e-01  4.67800743e-01 -5.17713685e-01  1.49557521e+00\n",
      "  -1.10583006e+00 -9.24500327e-02 -4.90716492e-02  5.54100706e-01\n",
      "   4.73776074e-01 -1.61514571e-01 -6.27150370e-01  1.38013112e-02\n",
      "   5.34293016e-01  2.71057599e-01 -5.18475847e-01  2.31455025e-01\n",
      "  -1.87317162e-01 -9.24500327e-02 -9.24500327e-02 -9.24500327e-02\n",
      "  -9.24500327e-02 -3.94622802e-02 -9.24500327e-02 -2.31455025e-01\n",
      "  -1.31306433e-01  1.72199041e-01  6.43401521e-01  8.07183004e-01\n",
      "   1.56130752e-01  7.91421396e-01  8.89756521e-02  4.53005160e-01\n",
      "  -8.61904726e-01  1.00000000e+00]\n",
      " [-3.43417116e-01 -1.17695890e+00  1.85639027e+00 -1.14095006e+00\n",
      "  -3.20630221e-01 -8.13616513e-01 -3.20630221e-01  2.98554888e-01\n",
      "   6.75862503e-01 -6.36209010e-01  4.92041932e-01 -4.65290066e-01\n",
      "  -1.20761473e+00 -9.24500327e-02  1.88107989e+00 -5.31609533e-01\n",
      "  -1.61514571e-01  6.19139187e+00 -1.63935963e+00 -1.20761473e+00\n",
      "  -2.10351581e-01  2.35702260e+00 -5.18475847e-01 -4.32049380e+00\n",
      "  -1.87317162e-01  1.08166538e+01 -9.24500327e-02  1.08166538e+01\n",
      "  -9.24500327e-02 -2.51123601e-01 -9.24500327e-02 -2.31455025e-01\n",
      "  -1.31306433e-01 -2.51123601e-01 -1.31306433e-01 -2.51123601e-01\n",
      "  -1.61514571e-01 -1.61514571e-01 -1.87317162e-01 -9.24500327e-02\n",
      "  -1.27366488e+00  1.00000000e+00]\n",
      " [-3.43417116e-01  1.08761225e-01 -2.73306978e-01 -1.16260876e-01\n",
      "  -3.20630221e-01  2.07731876e-01 -3.20630221e-01 -1.05642499e+00\n",
      "  -4.01864191e-01 -6.36209010e-01 -1.39055329e-01  1.88331693e-01\n",
      "  -1.89768029e-01 -9.24500327e-02  7.15628218e-02 -5.31609533e-01\n",
      "  -1.61514571e-01 -1.61514571e-01  6.09994281e-01 -1.20761473e+00\n",
      "  -2.10351581e-01  2.71057599e-01  1.31692865e+00 -4.32049380e+00\n",
      "   5.33853913e+00 -9.24500327e-02 -9.24500327e-02 -9.24500327e-02\n",
      "   2.63482593e+00 -2.51123601e-01 -9.24500327e-02 -2.31455025e-01\n",
      "  -1.31306433e-01 -2.51123601e-01 -1.31306433e-01 -2.51123601e-01\n",
      "  -1.61514571e-01 -1.61514571e-01  1.19414691e+00 -9.24500327e-02\n",
      "  -2.44264497e-01  0.00000000e+00]\n",
      " [-3.43417116e-01 -2.61862595e-02  7.69136549e-01 -1.12947122e+00\n",
      "  -1.64289865e-01 -5.35066953e-01  1.48390846e-01  1.13784905e-01\n",
      "  -1.07938729e-01 -3.40218722e-02  2.62552019e-01  1.00712135e-02\n",
      "  -1.20761473e+00 -9.24500327e-02  1.44240908e+00  1.67289713e-02\n",
      "  -1.61514571e-01  1.27253904e-01 -3.46587660e-03  4.57952598e-01\n",
      "  -2.10351581e-01 -4.49977043e-02 -4.07239211e-01  2.31455025e-01\n",
      "  -1.87317162e-01 -9.24500327e-02 -9.24500327e-02 -9.24500327e-02\n",
      "  -9.24500327e-02  1.33715164e-01  4.03418325e-01  1.00998556e+00\n",
      "   5.72973525e-01  7.10973312e-01 -1.31306433e-01  1.33715164e-01\n",
      "   4.16022379e-01 -1.61514571e-01  3.15033409e-01 -9.24500327e-02\n",
      "  -1.27366488e+00  9.09090909e-01]\n",
      " [ 2.32258418e+00  1.97889959e+00  1.14419621e+00 -1.12517317e+00\n",
      "  -3.20630221e-01  1.22908027e+00  2.25898564e+00  1.31478979e+00\n",
      "  -9.40727538e-01  1.01980562e+00 -1.39055329e-01  1.88331693e-01\n",
      "  -6.98691379e-01 -9.24500327e-02  6.74735177e-01  6.74735177e-01\n",
      "  -1.61514571e-01 -1.61514571e-01 -5.14682675e-01  3.19155321e-01\n",
      "  -2.10351581e-01  2.71057599e-01 -5.18475847e-01  2.31455025e-01\n",
      "  -1.87317162e-01 -9.24500327e-02 -9.24500327e-02 -9.24500327e-02\n",
      "  -9.24500327e-02  3.98210282e+00 -9.24500327e-02 -2.31455025e-01\n",
      "  -1.31306433e-01 -2.51123601e-01 -1.31306433e-01 -2.51123601e-01\n",
      "  -1.61514571e-01 -1.61514571e-01 -1.87317162e-01 -9.24500327e-02\n",
      "  -1.27366488e+00  1.00000000e+00]\n",
      " [ 1.78938392e+00  2.79708513e+00  2.61653512e+00 -1.11980456e+00\n",
      "  -3.20630221e-01 -8.13616513e-01  3.11885760e+00  1.65353476e+00\n",
      "  -1.47959089e+00 -6.36209010e-01 -2.03234711e+00 -4.65290066e-01\n",
      "   8.28078671e-01 -9.24500327e-02 -5.31609533e-01  1.88107989e+00\n",
      "  -1.61514571e-01 -1.61514571e-01 -1.63935963e+00  8.28078671e-01\n",
      "  -2.10351581e-01 -4.24264069e-01 -5.18475847e-01 -4.32049380e+00\n",
      "  -1.87317162e-01 -9.24500327e-02  1.08166538e+01 -9.24500327e-02\n",
      "  -9.24500327e-02 -2.51123601e-01 -9.24500327e-02 -2.31455025e-01\n",
      "  -1.31306433e-01 -2.51123601e-01 -1.31306433e-01 -2.51123601e-01\n",
      "  -1.61514571e-01 -1.61514571e-01 -1.87317162e-01 -9.24500327e-02\n",
      "   7.85135884e-01  1.00000000e+00]]\n"
     ]
    }
   ],
   "source": [
    "print(df_scaled.columns)\n",
    "print(modelo.cluster_centers_)"
   ]
  },
  {
   "cell_type": "code",
   "execution_count": 120,
   "metadata": {},
   "outputs": [
    {
     "data": {
      "text/html": [
       "<div>\n",
       "<style scoped>\n",
       "    .dataframe tbody tr th:only-of-type {\n",
       "        vertical-align: middle;\n",
       "    }\n",
       "\n",
       "    .dataframe tbody tr th {\n",
       "        vertical-align: top;\n",
       "    }\n",
       "\n",
       "    .dataframe thead th {\n",
       "        text-align: right;\n",
       "    }\n",
       "</style>\n",
       "<table border=\"1\" class=\"dataframe\">\n",
       "  <thead>\n",
       "    <tr style=\"text-align: right;\">\n",
       "      <th></th>\n",
       "      <th>CNT_CHILDREN</th>\n",
       "      <th>AMT_INCOME_TOTAL</th>\n",
       "      <th>DAYS_BIRTH</th>\n",
       "      <th>DAYS_EMPLOYED</th>\n",
       "      <th>FLAG_WORK_PHONE</th>\n",
       "      <th>FLAG_PHONE</th>\n",
       "      <th>FLAG_EMAIL</th>\n",
       "      <th>CNT_FAM_MEMBERS</th>\n",
       "      <th>CODE_GENDER_F</th>\n",
       "      <th>FLAG_OWN_CAR_Y</th>\n",
       "      <th>...</th>\n",
       "      <th>OCCUPATION_TYPE_IT staff</th>\n",
       "      <th>OCCUPATION_TYPE_Laborers</th>\n",
       "      <th>OCCUPATION_TYPE_Low-skill Laborers</th>\n",
       "      <th>OCCUPATION_TYPE_Managers</th>\n",
       "      <th>OCCUPATION_TYPE_Medicine staff</th>\n",
       "      <th>OCCUPATION_TYPE_Sales staff</th>\n",
       "      <th>OCCUPATION_TYPE_Security staff</th>\n",
       "      <th>OCCUPATION_TYPE_Waiters/barmen staff</th>\n",
       "      <th>OCCUPATION_TYPE_uninformed</th>\n",
       "      <th>BAD_SCORE</th>\n",
       "    </tr>\n",
       "  </thead>\n",
       "  <tbody>\n",
       "    <tr>\n",
       "      <th>0</th>\n",
       "      <td>-0.343417</td>\n",
       "      <td>-0.329298</td>\n",
       "      <td>-0.796334</td>\n",
       "      <td>0.887598</td>\n",
       "      <td>-0.320630</td>\n",
       "      <td>-0.280739</td>\n",
       "      <td>-0.320630</td>\n",
       "      <td>-1.056425</td>\n",
       "      <td>0.675863</td>\n",
       "      <td>-0.636209</td>\n",
       "      <td>...</td>\n",
       "      <td>-0.131306</td>\n",
       "      <td>-0.251124</td>\n",
       "      <td>-0.131306</td>\n",
       "      <td>-0.251124</td>\n",
       "      <td>-0.161515</td>\n",
       "      <td>-0.161515</td>\n",
       "      <td>-0.187317</td>\n",
       "      <td>-0.092450</td>\n",
       "      <td>0.785136</td>\n",
       "      <td>-0.826087</td>\n",
       "    </tr>\n",
       "    <tr>\n",
       "      <th>1</th>\n",
       "      <td>-0.343417</td>\n",
       "      <td>-0.262548</td>\n",
       "      <td>-0.670048</td>\n",
       "      <td>0.794035</td>\n",
       "      <td>-0.320630</td>\n",
       "      <td>0.136475</td>\n",
       "      <td>-0.080666</td>\n",
       "      <td>0.077977</td>\n",
       "      <td>-0.076040</td>\n",
       "      <td>0.134030</td>\n",
       "      <td>...</td>\n",
       "      <td>-0.131306</td>\n",
       "      <td>-0.251124</td>\n",
       "      <td>-0.131306</td>\n",
       "      <td>-0.251124</td>\n",
       "      <td>-0.161515</td>\n",
       "      <td>-0.161515</td>\n",
       "      <td>-0.187317</td>\n",
       "      <td>-0.092450</td>\n",
       "      <td>0.785136</td>\n",
       "      <td>-0.627907</td>\n",
       "    </tr>\n",
       "    <tr>\n",
       "      <th>2</th>\n",
       "      <td>1.042904</td>\n",
       "      <td>0.473438</td>\n",
       "      <td>1.112513</td>\n",
       "      <td>-1.124170</td>\n",
       "      <td>1.399114</td>\n",
       "      <td>0.412002</td>\n",
       "      <td>-0.148656</td>\n",
       "      <td>0.772798</td>\n",
       "      <td>-0.186319</td>\n",
       "      <td>0.467801</td>\n",
       "      <td>...</td>\n",
       "      <td>-0.131306</td>\n",
       "      <td>0.172199</td>\n",
       "      <td>0.643402</td>\n",
       "      <td>0.807183</td>\n",
       "      <td>0.156131</td>\n",
       "      <td>0.791421</td>\n",
       "      <td>0.088976</td>\n",
       "      <td>0.453005</td>\n",
       "      <td>-0.861905</td>\n",
       "      <td>1.000000</td>\n",
       "    </tr>\n",
       "    <tr>\n",
       "      <th>3</th>\n",
       "      <td>-0.343417</td>\n",
       "      <td>-1.176959</td>\n",
       "      <td>1.856390</td>\n",
       "      <td>-1.140950</td>\n",
       "      <td>-0.320630</td>\n",
       "      <td>-0.813617</td>\n",
       "      <td>-0.320630</td>\n",
       "      <td>0.298555</td>\n",
       "      <td>0.675863</td>\n",
       "      <td>-0.636209</td>\n",
       "      <td>...</td>\n",
       "      <td>-0.131306</td>\n",
       "      <td>-0.251124</td>\n",
       "      <td>-0.131306</td>\n",
       "      <td>-0.251124</td>\n",
       "      <td>-0.161515</td>\n",
       "      <td>-0.161515</td>\n",
       "      <td>-0.187317</td>\n",
       "      <td>-0.092450</td>\n",
       "      <td>-1.273665</td>\n",
       "      <td>1.000000</td>\n",
       "    </tr>\n",
       "    <tr>\n",
       "      <th>4</th>\n",
       "      <td>-0.343417</td>\n",
       "      <td>0.108761</td>\n",
       "      <td>-0.273307</td>\n",
       "      <td>-0.116261</td>\n",
       "      <td>-0.320630</td>\n",
       "      <td>0.207732</td>\n",
       "      <td>-0.320630</td>\n",
       "      <td>-1.056425</td>\n",
       "      <td>-0.401864</td>\n",
       "      <td>-0.636209</td>\n",
       "      <td>...</td>\n",
       "      <td>-0.131306</td>\n",
       "      <td>-0.251124</td>\n",
       "      <td>-0.131306</td>\n",
       "      <td>-0.251124</td>\n",
       "      <td>-0.161515</td>\n",
       "      <td>-0.161515</td>\n",
       "      <td>1.194147</td>\n",
       "      <td>-0.092450</td>\n",
       "      <td>-0.244264</td>\n",
       "      <td>0.000000</td>\n",
       "    </tr>\n",
       "  </tbody>\n",
       "</table>\n",
       "<p>5 rows × 42 columns</p>\n",
       "</div>"
      ],
      "text/plain": [
       "   CNT_CHILDREN  AMT_INCOME_TOTAL  DAYS_BIRTH  DAYS_EMPLOYED  FLAG_WORK_PHONE  \\\n",
       "0     -0.343417         -0.329298   -0.796334       0.887598        -0.320630   \n",
       "1     -0.343417         -0.262548   -0.670048       0.794035        -0.320630   \n",
       "2      1.042904          0.473438    1.112513      -1.124170         1.399114   \n",
       "3     -0.343417         -1.176959    1.856390      -1.140950        -0.320630   \n",
       "4     -0.343417          0.108761   -0.273307      -0.116261        -0.320630   \n",
       "\n",
       "   FLAG_PHONE  FLAG_EMAIL  CNT_FAM_MEMBERS  CODE_GENDER_F  FLAG_OWN_CAR_Y  \\\n",
       "0   -0.280739   -0.320630        -1.056425       0.675863       -0.636209   \n",
       "1    0.136475   -0.080666         0.077977      -0.076040        0.134030   \n",
       "2    0.412002   -0.148656         0.772798      -0.186319        0.467801   \n",
       "3   -0.813617   -0.320630         0.298555       0.675863       -0.636209   \n",
       "4    0.207732   -0.320630        -1.056425      -0.401864       -0.636209   \n",
       "\n",
       "   ...  OCCUPATION_TYPE_IT staff  OCCUPATION_TYPE_Laborers  \\\n",
       "0  ...                 -0.131306                 -0.251124   \n",
       "1  ...                 -0.131306                 -0.251124   \n",
       "2  ...                 -0.131306                  0.172199   \n",
       "3  ...                 -0.131306                 -0.251124   \n",
       "4  ...                 -0.131306                 -0.251124   \n",
       "\n",
       "   OCCUPATION_TYPE_Low-skill Laborers  OCCUPATION_TYPE_Managers  \\\n",
       "0                           -0.131306                 -0.251124   \n",
       "1                           -0.131306                 -0.251124   \n",
       "2                            0.643402                  0.807183   \n",
       "3                           -0.131306                 -0.251124   \n",
       "4                           -0.131306                 -0.251124   \n",
       "\n",
       "   OCCUPATION_TYPE_Medicine staff  OCCUPATION_TYPE_Sales staff  \\\n",
       "0                       -0.161515                    -0.161515   \n",
       "1                       -0.161515                    -0.161515   \n",
       "2                        0.156131                     0.791421   \n",
       "3                       -0.161515                    -0.161515   \n",
       "4                       -0.161515                    -0.161515   \n",
       "\n",
       "   OCCUPATION_TYPE_Security staff  OCCUPATION_TYPE_Waiters/barmen staff  \\\n",
       "0                       -0.187317                             -0.092450   \n",
       "1                       -0.187317                             -0.092450   \n",
       "2                        0.088976                              0.453005   \n",
       "3                       -0.187317                             -0.092450   \n",
       "4                        1.194147                             -0.092450   \n",
       "\n",
       "   OCCUPATION_TYPE_uninformed  BAD_SCORE  \n",
       "0                    0.785136  -0.826087  \n",
       "1                    0.785136  -0.627907  \n",
       "2                   -0.861905   1.000000  \n",
       "3                   -1.273665   1.000000  \n",
       "4                   -0.244264   0.000000  \n",
       "\n",
       "[5 rows x 42 columns]"
      ]
     },
     "execution_count": 120,
     "metadata": {},
     "output_type": "execute_result"
    }
   ],
   "source": [
    "grupos = pd.DataFrame(modelo.cluster_centers_,columns=df_scaled.columns)\n",
    "grupos.head()"
   ]
  },
  {
   "cell_type": "code",
   "execution_count": 122,
   "metadata": {},
   "outputs": [
    {
     "data": {
      "text/plain": [
       "array([<matplotlib.axes._subplots.AxesSubplot object at 0x000001DD26E04588>,\n",
       "       <matplotlib.axes._subplots.AxesSubplot object at 0x000001DD27078FC8>,\n",
       "       <matplotlib.axes._subplots.AxesSubplot object at 0x000001DD2708D6C8>,\n",
       "       <matplotlib.axes._subplots.AxesSubplot object at 0x000001DD270AF0C8>,\n",
       "       <matplotlib.axes._subplots.AxesSubplot object at 0x000001DD270E4A88>,\n",
       "       <matplotlib.axes._subplots.AxesSubplot object at 0x000001DD2711F488>,\n",
       "       <matplotlib.axes._subplots.AxesSubplot object at 0x000001DD27158448>,\n",
       "       <matplotlib.axes._subplots.AxesSubplot object at 0x000001DD2718F548>],\n",
       "      dtype=object)"
      ]
     },
     "execution_count": 122,
     "metadata": {},
     "output_type": "execute_result"
    },
    {
     "data": {
      "image/png": "[encoded data removed]",
      "text/plain": [
       "<Figure size 1800x1800 with 8 Axes>"
      ]
     },
     "metadata": {
      "needs_background": "light"
     },
     "output_type": "display_data"
    }
   ],
   "source": [
    "#subplot: make separate plot for each column\n",
    "grupos.transpose().plot.bar(subplots=True,figsize=(25, 25),sharex=False)"
   ]
  },
  {
   "cell_type": "markdown",
   "metadata": {},
   "source": [
    "<h2><b>Determinar a quantidade de agrupamentos ideal "
   ]
  },
  {
   "cell_type": "markdown",
   "metadata": {},
   "source": [
    "<b>2) Calcular o SSE para cada agrupamento."
   ]
  },
  {
   "cell_type": "code",
   "execution_count": 125,
   "metadata": {},
   "outputs": [
    {
     "data": {
      "text/plain": [
       "[8, 29.547145333988798]"
      ]
     },
     "execution_count": 125,
     "metadata": {},
     "output_type": "execute_result"
    }
   ],
   "source": [
    "[n_clusters, modelo.inertia_/100]"
   ]
  },
  {
   "cell_type": "code",
   "execution_count": 126,
   "metadata": {},
   "outputs": [],
   "source": [
    "def myKmeans(n_clusters, df):\n",
    "  modelo = KMeans(n_clusters=n_clusters)\n",
    "  modelo.fit(df)\n",
    "  return [n_clusters, modelo.inertia_/100]"
   ]
  },
  {
   "cell_type": "code",
   "execution_count": 158,
   "metadata": {},
   "outputs": [],
   "source": [
    "n_clusters = 30\n",
    "kMeansArray = []\n",
    "kMeansRange = n_clusters\n",
    "for n_groups in range (1,kMeansRange):\n",
    "    kMeansArray.append(myKmeans(n_groups, df_scaled))"
   ]
  },
  {
   "cell_type": "markdown",
   "metadata": {},
   "source": [
    "<b>3) Gerar um gráfico com os valores de SSE para encontrar o elbow."
   ]
  },
  {
   "cell_type": "code",
   "execution_count": 159,
   "metadata": {},
   "outputs": [
    {
     "data": {
      "text/html": [
       "<div>\n",
       "<style scoped>\n",
       "    .dataframe tbody tr th:only-of-type {\n",
       "        vertical-align: middle;\n",
       "    }\n",
       "\n",
       "    .dataframe tbody tr th {\n",
       "        vertical-align: top;\n",
       "    }\n",
       "\n",
       "    .dataframe thead th {\n",
       "        text-align: right;\n",
       "    }\n",
       "</style>\n",
       "<table border=\"1\" class=\"dataframe\">\n",
       "  <thead>\n",
       "    <tr style=\"text-align: right;\">\n",
       "      <th></th>\n",
       "      <th>groups</th>\n",
       "      <th>inertia</th>\n",
       "    </tr>\n",
       "  </thead>\n",
       "  <tbody>\n",
       "    <tr>\n",
       "      <th>1</th>\n",
       "      <td>1</td>\n",
       "      <td>49.560000</td>\n",
       "    </tr>\n",
       "    <tr>\n",
       "      <th>2</th>\n",
       "      <td>2</td>\n",
       "      <td>42.028632</td>\n",
       "    </tr>\n",
       "    <tr>\n",
       "      <th>3</th>\n",
       "      <td>3</td>\n",
       "      <td>39.865781</td>\n",
       "    </tr>\n",
       "    <tr>\n",
       "      <th>4</th>\n",
       "      <td>4</td>\n",
       "      <td>37.947031</td>\n",
       "    </tr>\n",
       "    <tr>\n",
       "      <th>5</th>\n",
       "      <td>5</td>\n",
       "      <td>35.698104</td>\n",
       "    </tr>\n",
       "  </tbody>\n",
       "</table>\n",
       "</div>"
      ],
      "text/plain": [
       "   groups    inertia\n",
       "1       1  49.560000\n",
       "2       2  42.028632\n",
       "3       3  39.865781\n",
       "4       4  37.947031\n",
       "5       5  35.698104"
      ]
     },
     "execution_count": 159,
     "metadata": {},
     "output_type": "execute_result"
    }
   ],
   "source": [
    "kMeansDf = pd.DataFrame(kMeansArray, columns=['groups', 'inertia'], index=list(range(1, kMeansRange)))\n",
    "kMeansDf.head()"
   ]
  },
  {
   "cell_type": "code",
   "execution_count": 160,
   "metadata": {},
   "outputs": [
    {
     "data": {
      "text/plain": [
       "<matplotlib.axes._subplots.AxesSubplot at 0x1dd2cd31c48>"
      ]
     },
     "execution_count": 160,
     "metadata": {},
     "output_type": "execute_result"
    },
    {
     "data": {
      "image/png": "[encoded data removed]",
      "text/plain": [
       "<Figure size 1440x360 with 1 Axes>"
      ]
     },
     "metadata": {},
     "output_type": "display_data"
    }
   ],
   "source": [
    "kMeansDf.inertia.plot(x=kMeansDf['groups'], y=kMeansDf['inertia'],figsize=(20, 5),xticks=kMeansDf['groups'])"
   ]
  },
  {
   "cell_type": "markdown",
   "metadata": {},
   "source": [
    "<b>4) Eleger o melhor agrupamento e realizar uma análise sobre a distribuição dos dados."
   ]
  },
  {
   "cell_type": "code",
   "execution_count": 161,
   "metadata": {},
   "outputs": [
    {
     "data": {
      "text/plain": [
       "KMeans(n_clusters=10)"
      ]
     },
     "execution_count": 161,
     "metadata": {},
     "output_type": "execute_result"
    }
   ],
   "source": [
    "modelo = KMeans(n_clusters=10)\n",
    "modelo.fit(df_scaled)"
   ]
  },
  {
   "cell_type": "code",
   "execution_count": 153,
   "metadata": {},
   "outputs": [
    {
     "name": "stdout",
     "output_type": "stream",
     "text": [
      "Tempo para t-SNE: {} seconds 0.6510214805603027\n"
     ]
    }
   ],
   "source": [
    "from sklearn.manifold import TSNE\n",
    "import time\n",
    "time_start = time.time()\n",
    "tsne = TSNE()\n",
    "view = tsne.fit_transform(df_scaled)\n",
    "print ('Tempo para t-SNE: {} seconds',format(time.time()-time_start))"
   ]
  },
  {
   "cell_type": "code",
   "execution_count": 167,
   "metadata": {},
   "outputs": [
    {
     "data": {
      "text/plain": [
       "<matplotlib.axes._subplots.AxesSubplot at 0x1dd1da46fc8>"
      ]
     },
     "execution_count": 167,
     "metadata": {},
     "output_type": "execute_result"
    },
    {
     "data": {
      "image/png": "[encoded data removed]",
      "text/plain": [
       "<Figure size 720x720 with 1 Axes>"
      ]
     },
     "metadata": {},
     "output_type": "display_data"
    }
   ],
   "source": [
    "import seaborn as sns\n",
    "sns.set(rc={'figure.figsize': (10, 10)})\n",
    "sns.scatterplot(x=view[:, 0],\n",
    "               y=view[:, 1],\n",
    "               hue=modelo.labels_)"
   ]
  },
  {
   "cell_type": "markdown",
   "metadata": {},
   "source": [
    "<b>Tentar plotar um diagrama de Venn"
   ]
  },
  {
   "cell_type": "code",
   "execution_count": 168,
   "metadata": {},
   "outputs": [],
   "source": [
    "import matplotlib.pyplot as plt\n",
    "from matplotlib_venn import venn2\n",
    "from matplotlib_venn import venn3"
   ]
  },
  {
   "cell_type": "code",
   "execution_count": 171,
   "metadata": {},
   "outputs": [
    {
     "name": "stderr",
     "output_type": "stream",
     "text": [
      "d:\\Users\\smide\\Anaconda3\\lib\\site-packages\\matplotlib_venn\\_venn2.py:50: UserWarning: Both circles have zero area\n",
      "  warnings.warn(\"Both circles have zero area\")\n",
      "d:\\Users\\smide\\Anaconda3\\lib\\site-packages\\matplotlib\\text.py:1150: FutureWarning: elementwise comparison failed; returning scalar instead, but in the future will perform elementwise comparison\n",
      "  if s != self._text:\n"
     ]
    },
    {
     "ename": "IndexError",
     "evalue": "list index out of range",
     "output_type": "error",
     "traceback": [
      "\u001b[1;31m---------------------------------------------------------------------------\u001b[0m",
      "\u001b[1;31mIndexError\u001b[0m                                Traceback (most recent call last)",
      "\u001b[1;32m<ipython-input-171-e032afcbf023>\u001b[0m in \u001b[0;36m<module>\u001b[1;34m\u001b[0m\n\u001b[1;32m----> 1\u001b[1;33m \u001b[0mvenn2\u001b[0m\u001b[1;33m(\u001b[0m\u001b[0mview\u001b[0m\u001b[1;33m[\u001b[0m\u001b[1;33m:\u001b[0m\u001b[1;36m0\u001b[0m\u001b[1;33m]\u001b[0m\u001b[1;33m,\u001b[0m \u001b[0mview\u001b[0m\u001b[1;33m[\u001b[0m\u001b[1;33m:\u001b[0m\u001b[1;36m1\u001b[0m\u001b[1;33m]\u001b[0m\u001b[1;33m)\u001b[0m   \u001b[1;31m# venn3 works for three sets\u001b[0m\u001b[1;33m\u001b[0m\u001b[1;33m\u001b[0m\u001b[0m\n\u001b[0m",
      "\u001b[1;32md:\\Users\\smide\\Anaconda3\\lib\\site-packages\\matplotlib_venn\\_venn2.py\u001b[0m in \u001b[0;36mvenn2\u001b[1;34m(subsets, set_labels, set_colors, alpha, normalize_to, ax, subset_label_formatter)\u001b[0m\n\u001b[0;32m    253\u001b[0m                            centers[1] + np.array([0.0, - radii[1] - padding])]\n\u001b[0;32m    254\u001b[0m         \u001b[0mlabels\u001b[0m \u001b[1;33m=\u001b[0m \u001b[1;33m[\u001b[0m\u001b[0max\u001b[0m\u001b[1;33m.\u001b[0m\u001b[0mtext\u001b[0m\u001b[1;33m(\u001b[0m\u001b[0mpos\u001b[0m\u001b[1;33m[\u001b[0m\u001b[1;36m0\u001b[0m\u001b[1;33m]\u001b[0m\u001b[1;33m,\u001b[0m \u001b[0mpos\u001b[0m\u001b[1;33m[\u001b[0m\u001b[1;36m1\u001b[0m\u001b[1;33m]\u001b[0m\u001b[1;33m,\u001b[0m \u001b[0mtxt\u001b[0m\u001b[1;33m,\u001b[0m \u001b[0msize\u001b[0m\u001b[1;33m=\u001b[0m\u001b[1;34m'large'\u001b[0m\u001b[1;33m,\u001b[0m \u001b[0mha\u001b[0m\u001b[1;33m=\u001b[0m\u001b[1;34m'right'\u001b[0m\u001b[1;33m,\u001b[0m \u001b[0mva\u001b[0m\u001b[1;33m=\u001b[0m\u001b[1;34m'top'\u001b[0m\u001b[1;33m)\u001b[0m \u001b[1;32mfor\u001b[0m \u001b[1;33m(\u001b[0m\u001b[0mpos\u001b[0m\u001b[1;33m,\u001b[0m \u001b[0mtxt\u001b[0m\u001b[1;33m)\u001b[0m \u001b[1;32min\u001b[0m \u001b[0mzip\u001b[0m\u001b[1;33m(\u001b[0m\u001b[0mlabel_positions\u001b[0m\u001b[1;33m,\u001b[0m \u001b[0mset_labels\u001b[0m\u001b[1;33m)\u001b[0m\u001b[1;33m]\u001b[0m\u001b[1;33m\u001b[0m\u001b[1;33m\u001b[0m\u001b[0m\n\u001b[1;32m--> 255\u001b[1;33m         \u001b[0mlabels\u001b[0m\u001b[1;33m[\u001b[0m\u001b[1;36m1\u001b[0m\u001b[1;33m]\u001b[0m\u001b[1;33m.\u001b[0m\u001b[0mset_ha\u001b[0m\u001b[1;33m(\u001b[0m\u001b[1;34m'left'\u001b[0m\u001b[1;33m)\u001b[0m\u001b[1;33m\u001b[0m\u001b[1;33m\u001b[0m\u001b[0m\n\u001b[0m\u001b[0;32m    256\u001b[0m     \u001b[1;32melse\u001b[0m\u001b[1;33m:\u001b[0m\u001b[1;33m\u001b[0m\u001b[1;33m\u001b[0m\u001b[0m\n\u001b[0;32m    257\u001b[0m         \u001b[0mlabels\u001b[0m \u001b[1;33m=\u001b[0m \u001b[1;32mNone\u001b[0m\u001b[1;33m\u001b[0m\u001b[1;33m\u001b[0m\u001b[0m\n",
      "\u001b[1;31mIndexError\u001b[0m: list index out of range"
     ]
    },
    {
     "data": {
      "image/png": "[encoded data removed]",
      "text/plain": [
       "<Figure size 720x720 with 1 Axes>"
      ]
     },
     "metadata": {},
     "output_type": "display_data"
    }
   ],
   "source": [
    "venn2(view[:0], view[:1])   # venn3 works for three sets"
   ]
  }
 ],
 "metadata": {
  "kernelspec": {
   "display_name": "Python 3",
   "language": "python",
   "name": "python3"
  },
  "language_info": {
   "codemirror_mode": {
    "name": "ipython",
    "version": 3
   },
   "file_extension": ".py",
   "mimetype": "text/x-python",
   "name": "python",
   "nbconvert_exporter": "python",
   "pygments_lexer": "ipython3",
   "version": "3.7.4"
  }
 },
 "nbformat": 4,
 "nbformat_minor": 4
}
