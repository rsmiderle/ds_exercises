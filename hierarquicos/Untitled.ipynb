{
 "cells": [
  {
   "cell_type": "code",
   "execution_count": 2,
   "metadata": {},
   "outputs": [
    {
     "name": "stdout",
     "output_type": "stream",
     "text": [
      "Collecting matplotlib-venn\n",
      "  Downloading https://files.pythonhosted.org/packages/ca/e8/53441d7feb29ab10de3bd46c05358c41f0ba2f57395e88ffbb62d6b69df3/matplotlib-venn-0.11.6.tar.gz\n",
      "Requirement already satisfied: matplotlib in d:\\users\\smide\\anaconda3\\lib\\site-packages (from matplotlib-venn) (3.1.1)\n",
      "Requirement already satisfied: numpy in d:\\users\\smide\\anaconda3\\lib\\site-packages (from matplotlib-venn) (1.19.2)\n",
      "Requirement already satisfied: scipy in d:\\users\\smide\\anaconda3\\lib\\site-packages (from matplotlib-venn) (1.3.1)\n",
      "Requirement already satisfied: cycler>=0.10 in d:\\users\\smide\\anaconda3\\lib\\site-packages (from matplotlib->matplotlib-venn) (0.10.0)\n",
      "Requirement already satisfied: kiwisolver>=1.0.1 in d:\\users\\smide\\anaconda3\\lib\\site-packages (from matplotlib->matplotlib-venn) (1.1.0)\n",
      "Requirement already satisfied: pyparsing!=2.0.4,!=2.1.2,!=2.1.6,>=2.0.1 in d:\\users\\smide\\anaconda3\\lib\\site-packages (from matplotlib->matplotlib-venn) (2.4.2)\n",
      "Requirement already satisfied: python-dateutil>=2.1 in d:\\users\\smide\\anaconda3\\lib\\site-packages (from matplotlib->matplotlib-venn) (2.8.0)\n",
      "Requirement already satisfied: six in d:\\users\\smide\\anaconda3\\lib\\site-packages (from cycler>=0.10->matplotlib->matplotlib-venn) (1.12.0)\n",
      "Requirement already satisfied: setuptools in d:\\users\\smide\\anaconda3\\lib\\site-packages (from kiwisolver>=1.0.1->matplotlib->matplotlib-venn) (50.3.0)\n",
      "Building wheels for collected packages: matplotlib-venn\n",
      "  Building wheel for matplotlib-venn (setup.py): started\n",
      "  Building wheel for matplotlib-venn (setup.py): finished with status 'done'\n",
      "  Created wheel for matplotlib-venn: filename=matplotlib_venn-0.11.6-cp37-none-any.whl size=32069 sha256=f53d3012e9a0e42157b96bb72e4fc8ce8e9f3d0a0d70a36eb84d67c9c3b77820\n",
      "  Stored in directory: C:\\Users\\smide\\AppData\\Local\\pip\\Cache\\wheels\\c5\\9c\\ac\\77b0c9151c4c264bec6ba18120d73bb24df5b4c1f09c17a41c\n",
      "Successfully built matplotlib-venn\n",
      "Installing collected packages: matplotlib-venn\n",
      "Successfully installed matplotlib-venn-0.11.6\n"
     ]
    }
   ],
   "source": [
    "!pip install matplotlib-venn"
   ]
  },
  {
   "cell_type": "code",
   "execution_count": 3,
   "metadata": {},
   "outputs": [
    {
     "data": {
      "image/png": "[encoded data removed]",
      "text/plain": [
       "<Figure size 432x288 with 1 Axes>"
      ]
     },
     "metadata": {},
     "output_type": "display_data"
    }
   ],
   "source": [
    "import matplotlib.pyplot as plt\n",
    "from matplotlib_venn import venn2\n",
    "from matplotlib_venn import venn3\n",
    "\n",
    "set1 = set()\n",
    "set2 = set()\n",
    "set3 = set()\n",
    "set4 = set()\n",
    "set_array = []\n",
    "set_names = ['Set1', 'Set2', 'Set3', 'Set4']\n",
    "\n",
    "set1.add('a')\n",
    "set1.add('b')\n",
    "\n",
    "set2.add('b')\n",
    "set2.add('c')\n",
    "\n",
    "set3.add('c')\n",
    "set3.add('d')\n",
    "\n",
    "set4.add('d')\n",
    "set4.add('e')\n",
    "\n",
    "set_array.append(set1)\n",
    "set_array.append(set2)\n",
    "set_array.append(set3)\n",
    "set_array.append(set4)\n",
    "\n",
    "# venn2([set1, set2], ('Set1', 'Set2')) # venn2 works for two sets\n",
    "venn3(set_array[0:3], set_names[0:3])   # venn3 works for three sets\n",
    "plt.show()"
   ]
  }
 ],
 "metadata": {
  "kernelspec": {
   "display_name": "Python 3",
   "language": "python",
   "name": "python3"
  },
  "language_info": {
   "codemirror_mode": {
    "name": "ipython",
    "version": 3
   },
   "file_extension": ".py",
   "mimetype": "text/x-python",
   "name": "python",
   "nbconvert_exporter": "python",
   "pygments_lexer": "ipython3",
   "version": "3.7.4"
  }
 },
 "nbformat": 4,
 "nbformat_minor": 4
}
